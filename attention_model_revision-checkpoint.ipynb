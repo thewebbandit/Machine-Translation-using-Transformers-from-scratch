{
 "cells": [
  {
   "cell_type": "code",
   "execution_count": 3,
   "metadata": {
    "id": "0ubIGm6SPr4o"
   },
   "outputs": [],
   "source": [
    "import tensorflow as tf\n",
    "from tensorflow import keras\n",
    "import numpy as np\n",
    "import pandas as pd\n",
    "import matplotlib.pyplot as plt\n",
    "import seaborn as sns\n",
    "\n",
    "import tensorflow_datasets as tfds"
   ]
  },
  {
   "cell_type": "code",
   "execution_count": 4,
   "metadata": {
    "colab": {
     "base_uri": "https://localhost:8080/",
     "height": 168,
     "referenced_widgets": [
      "043a8ea8a6a14d1bb6d74a768f19157f",
      "88b19fea8db84a02a5c04f6bea1ace97",
      "ab1c9ef7d16742a7801f93eb1a2c74ef",
      "52022e50e4e040a286c899393935aab4",
      "2dd1447174684a918647f5a718d79fc6",
      "22ca1bb76f7e4bb9b71828f81145dac7",
      "979382ee04be4eefa07be9c2f69e7dab",
      "b3a15c916ac5489b87be1d9b62776beb",
      "945b081e3b634f2884ec314100809ead",
      "92d71f30e2ef466b88619715bb0a2454",
      "a4c97b9f60654b43ad576dfedaf70aeb",
      "c1481b0a5d8843319581595e08519095",
      "6346f42b29e045019fd239f9048ff88d",
      "c85d163d16cf4eddb7c27572308ccbf9",
      "5ea16179b9274c8f93fb5042ad39d952",
      "29bc0ba98d44465f9f969f36849f6b3c",
      "09001d444f614b33b626e219173a80ac",
      "5933ffd55cb44b099229abf74747eeb2",
      "dcb202220dac46e487c4c2db7d2d2fbb",
      "d3c1e2ab76f64982811721dbdee66ca8",
      "5a9c85fc5f4f43bd9917b3e3af7667fe",
      "44db3580a88f41e5ab0c110c3c183fa0",
      "030be249d7f545358629cf2aea204654",
      "67b7894ff8b84aa3b73e81ae26c748aa",
      "8dc8a4e57b7c476ebc1dbd95cea89c3e",
      "13f98bab561548baa53bd3c59a5fb017",
      "5cde3f40c7f24ccda1194f58aa313e5c",
      "8219d6a12ca14f28826ced3ade470d0a",
      "16be28ff98324d6e97037df204577d3e",
      "b758b7f4df364046bbcc734ade99ad36",
      "d7070ce330af4e64ae769967cb3c9717",
      "1ddca80001fb410b9c559ad16fc27833",
      "34526557f99943eb82c11ba2dc5c40e4",
      "fe2380a0130a4b1690c79737432d99fa",
      "79a77ec05e3f42878fcf8a7af21af4a2",
      "9eb37f0604c94603b910f3146ee6e123",
      "f8fa134d4bf549e0a9f39f8049b679be",
      "073decc4a5ea4153a069714aace145ee",
      "acd4b830293a451a8164e5a88b2b33a8",
      "e12f77e00b9b4781969575d5b3f74702",
      "adc007ecfadf49439fd7c220056c9058",
      "dbee2cec3df94a90a3f63923be0097a8",
      "b91339c5ec58462b90f62eebcb3b0d14",
      "72a99f6fafd64948bacbb9a3703c9c1e",
      "5a64cd5aa37f4e57b1c1d8da381d86f5",
      "558d9e79693f4f448803f5292c8daa25",
      "797eebbe1cad4273b0832b0143537181",
      "3f4120f0154c4fb299304953d75c09da",
      "540ec004bc3c4f968f726731344ead79",
      "bf63465727e44fa69256d85880488380",
      "691d53886f2448688826dbf35ac596f5",
      "be3d1acfd95e43d7ade3ae392771e3a6",
      "46fdaceeebcc4e178a883e346a756bed",
      "568143d0f9034f819cad34f1ae2dc38f",
      "12b7dddea170451eac5cd3aec025b3dc",
      "4cf683cbcccb480eadbbad89eeec8fd5",
      "011c168ab8204fa4b61ef0ae35ed620a",
      "2e76f88d15784da0a187bccd6f6c75d4",
      "c19a3459894f46d78d382732b1928c65",
      "08ffe4154a684afeb885fb7a5d385602",
      "2b2d5f6bccd44033b49daeffb5f18d51",
      "0699a76e0dc346f0965ef2f68d8a9fd5",
      "b970563fc2184a028bbccdc47ba3b640",
      "8a5ae9bcead64e6e8a3714376aefb88c",
      "93f9ccfd248d4d4ead92d892e19d5c70",
      "75f864b8677e4d24b4b0e0630dcd3fcf",
      "a5257b3f846a4faa9416b4711adfc19d",
      "85071a00cbab4cee883b61d9c1198f57",
      "f72868e8b4714b84b2e0eeb3991048dc",
      "d5686912d90044f9934cb9ab5cf9567b",
      "63a8cf5958a044bead48e4285f3ee1f7",
      "ffc83e58b48a45168b6e2282cf860fed",
      "e1a0e78a56024b04bc03f184efba1830",
      "eee1282cec3346e08386e4a2166bc47c",
      "a277f3174ba84b9395654b614f8a4a0d",
      "4a57f76a9324414b9c0d2113ada93de5",
      "baa70589d5124d77b974d988f5b4bb0a",
      "210d1bdfa9144e06a2338abeee283de8",
      "f324092eea9e421db1114b50f4eb4ea3",
      "7adbfddd5a9943dc8d68c1e48bb50230",
      "eb5cb69c4bdc4799b97b85b5a2310d88",
      "259e7e403e0140b7b462fc62fbb79bd3",
      "a3c774ef3f9743938603c9ef1699fb6f",
      "a3eece0fb1604673a52f0a0f39a962ca",
      "f1c027f627494c5a94773a74082f38b6",
      "6081512982a64e2d9d67b509803ce947",
      "4ca64f8ce2784b89a6aeb634374e1f2c",
      "93652628979f4336960935565b3fdacf",
      "ee43e7449e7b4f7787b29ea0c27a9be0",
      "3991a5366d13464ca69cf4b581049358",
      "e8c5e26c798d4fdcad89a10d7f893972",
      "883d9cb643634b328104a8463889bd02",
      "9ebe47f722f84d418db062b5aa24431c",
      "a9aedf5e961945c985afc9af60eafa03",
      "f09c4c66b8354e92a4f1ad085eae10ce",
      "ab48d7aabf6749e0ae2bd3246a63dc51",
      "1f509360e6e340e1a353ebf4a0e3a20d",
      "130f313d29864b67bbf18cb6f299ffaa",
      "17ee5016220f49358f567061d7df4ee3",
      "02f225baf86349b2850d1ad0984a3311",
      "3fdfdfa4a5b347eea4453cda4b88522b",
      "14587cfa53124467b7af036ce911ff1b",
      "1b8d0268634e4927a0b752edf073b1a3",
      "f17e3dc1774144d2979f92117a67a350",
      "9a760bc064c6450298510ead00c620ca",
      "29ff228f32a94ec5a952b65adf4b7e48",
      "2add1fe73d424a1eb691bdd1243a5c6d",
      "9b3c38f276d145cda7a3a13f372dc348",
      "8a75213c29a1406cb001c7bc3efdb282",
      "17f3027c40704636973c647d8348f50b"
     ]
    },
    "id": "KiVcm1dHP26r",
    "outputId": "62ddc003-7ff5-4c84-b1d3-e89b8e896d65"
   },
   "outputs": [
    {
     "name": "stdout",
     "output_type": "stream",
     "text": [
      "\u001b[1mDownloading and preparing dataset Unknown size (download: Unknown size, generated: Unknown size, total: Unknown size) to C:\\Users\\Neha Chauhan\\tensorflow_datasets\\ted_hrlr_translate\\pt_to_en\\1.0.0...\u001b[0m\n"
     ]
    },
    {
     "data": {
      "application/vnd.jupyter.widget-view+json": {
       "model_id": "c96d0473b04f46aa9a35abdf2d63faa1",
       "version_major": 2,
       "version_minor": 0
      },
      "text/plain": [
       "Dl Completed...: 0 url [00:00, ? url/s]"
      ]
     },
     "metadata": {},
     "output_type": "display_data"
    },
    {
     "data": {
      "application/vnd.jupyter.widget-view+json": {
       "model_id": "d71a38736ed74586b5dcebe5ff554746",
       "version_major": 2,
       "version_minor": 0
      },
      "text/plain": [
       "Dl Size...: 0 MiB [00:00, ? MiB/s]"
      ]
     },
     "metadata": {},
     "output_type": "display_data"
    },
    {
     "data": {
      "application/vnd.jupyter.widget-view+json": {
       "model_id": "35af852d775d48ba9e6b894043e5af03",
       "version_major": 2,
       "version_minor": 0
      },
      "text/plain": [
       "Extraction completed...: 0 file [00:00, ? file/s]"
      ]
     },
     "metadata": {},
     "output_type": "display_data"
    },
    {
     "data": {
      "application/vnd.jupyter.widget-view+json": {
       "model_id": "",
       "version_major": 2,
       "version_minor": 0
      },
      "text/plain": [
       "Generating splits...:   0%|          | 0/3 [00:00<?, ? splits/s]"
      ]
     },
     "metadata": {},
     "output_type": "display_data"
    },
    {
     "data": {
      "application/vnd.jupyter.widget-view+json": {
       "model_id": "",
       "version_major": 2,
       "version_minor": 0
      },
      "text/plain": [
       "Generating train examples...: 0 examples [00:00, ? examples/s]"
      ]
     },
     "metadata": {},
     "output_type": "display_data"
    },
    {
     "data": {
      "application/vnd.jupyter.widget-view+json": {
       "model_id": "",
       "version_major": 2,
       "version_minor": 0
      },
      "text/plain": [
       "Shuffling C:\\Users\\Neha Chauhan\\tensorflow_datasets\\ted_hrlr_translate\\pt_to_en\\1.0.0.incomplete17295Q\\ted_hrl…"
      ]
     },
     "metadata": {},
     "output_type": "display_data"
    },
    {
     "data": {
      "application/vnd.jupyter.widget-view+json": {
       "model_id": "",
       "version_major": 2,
       "version_minor": 0
      },
      "text/plain": [
       "Generating validation examples...: 0 examples [00:00, ? examples/s]"
      ]
     },
     "metadata": {},
     "output_type": "display_data"
    },
    {
     "data": {
      "application/vnd.jupyter.widget-view+json": {
       "model_id": "",
       "version_major": 2,
       "version_minor": 0
      },
      "text/plain": [
       "Shuffling C:\\Users\\Neha Chauhan\\tensorflow_datasets\\ted_hrlr_translate\\pt_to_en\\1.0.0.incomplete17295Q\\ted_hrl…"
      ]
     },
     "metadata": {},
     "output_type": "display_data"
    },
    {
     "data": {
      "application/vnd.jupyter.widget-view+json": {
       "model_id": "",
       "version_major": 2,
       "version_minor": 0
      },
      "text/plain": [
       "Generating test examples...: 0 examples [00:00, ? examples/s]"
      ]
     },
     "metadata": {},
     "output_type": "display_data"
    },
    {
     "data": {
      "application/vnd.jupyter.widget-view+json": {
       "model_id": "",
       "version_major": 2,
       "version_minor": 0
      },
      "text/plain": [
       "Shuffling C:\\Users\\Neha Chauhan\\tensorflow_datasets\\ted_hrlr_translate\\pt_to_en\\1.0.0.incomplete17295Q\\ted_hrl…"
      ]
     },
     "metadata": {},
     "output_type": "display_data"
    },
    {
     "name": "stdout",
     "output_type": "stream",
     "text": [
      "\u001b[1mDataset ted_hrlr_translate downloaded and prepared to C:\\Users\\Neha Chauhan\\tensorflow_datasets\\ted_hrlr_translate\\pt_to_en\\1.0.0. Subsequent calls will reuse this data.\u001b[0m\n"
     ]
    }
   ],
   "source": [
    "examples, metadata = tfds.load('ted_hrlr_translate/pt_to_en', with_info= True, as_supervised = True)"
   ]
  },
  {
   "cell_type": "code",
   "execution_count": 5,
   "metadata": {
    "id": "ijQ7EcpPP92R"
   },
   "outputs": [],
   "source": [
    "train_examples, val_examples = examples['train'], examples['validation']"
   ]
  },
  {
   "cell_type": "code",
   "execution_count": 6,
   "metadata": {
    "id": "tLhkVsgKrP-P"
   },
   "outputs": [],
   "source": [
    "# !pip install tensorflow_datasets"
   ]
  },
  {
   "cell_type": "code",
   "execution_count": 7,
   "metadata": {
    "id": "PGYYtHXeQAi4"
   },
   "outputs": [],
   "source": [
    "tokenizer_en = tfds.deprecated.text.SubwordTextEncoder.build_from_corpus(\n",
    "   (en.numpy() for pt, en in train_examples), target_vocab_size = 2**13\n",
    ")"
   ]
  },
  {
   "cell_type": "code",
   "execution_count": 8,
   "metadata": {
    "id": "HcQKusqEQCcQ"
   },
   "outputs": [],
   "source": [
    "tokenizer_pt = tfds.deprecated.text.SubwordTextEncoder.build_from_corpus(\n",
    "   (pt.numpy() for pt, en in train_examples), target_vocab_size = 2**13\n",
    ")"
   ]
  },
  {
   "cell_type": "code",
   "execution_count": 9,
   "metadata": {
    "colab": {
     "base_uri": "https://localhost:8080/"
    },
    "id": "gtEcbBoaQHFY",
    "outputId": "fb7fd1e5-a637-4d89-85eb-569c7d4ee5a1"
   },
   "outputs": [
    {
     "data": {
      "text/plain": [
       "<PrefetchDataset element_spec=(TensorSpec(shape=(), dtype=tf.string, name=None), TensorSpec(shape=(), dtype=tf.string, name=None))>"
      ]
     },
     "execution_count": 9,
     "metadata": {},
     "output_type": "execute_result"
    }
   ],
   "source": [
    "train_examples"
   ]
  },
  {
   "cell_type": "code",
   "execution_count": 10,
   "metadata": {
    "id": "59jf05ctQM9-"
   },
   "outputs": [],
   "source": [
    "\n",
    "def encode(lang1, lang2):\n",
    "    lang1 = [tokenizer_pt.vocab_size] + tokenizer_pt.encode(lang1.numpy()) + [tokenizer_pt.vocab_size + 1]\n",
    "    lang2 = [tokenizer_en.vocab_size] + tokenizer_en.encode(lang2.numpy()) + [tokenizer_en.vocab_size + 1]\n",
    "    return lang1, lang2"
   ]
  },
  {
   "cell_type": "code",
   "execution_count": 11,
   "metadata": {
    "id": "g_VT9PpBrFsc"
   },
   "outputs": [],
   "source": [
    "def tf_encode(pt, en):\n",
    "    result_pt, result_en = tf.py_function(encode, [pt, en], [tf.int64, tf.int64])\n",
    "    result_pt.set_shape([None])\n",
    "    result_en.set_shape([None])\n",
    "    return result_pt, result_en"
   ]
  },
  {
   "cell_type": "code",
   "execution_count": 12,
   "metadata": {
    "id": "ggCU0Cw2aUS7"
   },
   "outputs": [],
   "source": [
    "MAX_LENGTH = 40\n",
    "\n",
    "def filter_max_length(x, y, max_length = MAX_LENGTH):\n",
    "    return tf.logical_and(tf.size(x) <= max_length, tf.size(y) <= MAX_LENGTH,)"
   ]
  },
  {
   "cell_type": "code",
   "execution_count": 13,
   "metadata": {
    "id": "zMFXrXkMsh10"
   },
   "outputs": [],
   "source": [
    "BUFFER_SIZE = 20000\n",
    "BATCH_SIZE = 64\n",
    "\n",
    "train_dataset = train_examples.map(tf_encode)\n",
    "train_dataset = train_dataset.filter(filter_max_length)\n",
    "\n",
    "train_dataset = train_dataset.cache()\n",
    "train_dataset = train_dataset.shuffle(BUFFER_SIZE).padded_batch(BATCH_SIZE)\n",
    "train_dataset = train_dataset.prefetch(tf.data.experimental.AUTOTUNE)"
   ]
  },
  {
   "cell_type": "code",
   "execution_count": 14,
   "metadata": {
    "colab": {
     "base_uri": "https://localhost:8080/"
    },
    "id": "BJJkpT80xxYU",
    "outputId": "c6222860-9e11-47d2-efeb-6c7fb014f85c"
   },
   "outputs": [
    {
     "data": {
      "text/plain": [
       "(<tf.Tensor: shape=(64, 35), dtype=int64, numpy=\n",
       " array([[8214,  118,  475, ...,    0,    0,    0],\n",
       "        [8214,  195,    1, ...,    0,    0,    0],\n",
       "        [8214,   89,    5, ...,    0,    0,    0],\n",
       "        ...,\n",
       "        [8214,    3,   69, ...,    0,    0,    0],\n",
       "        [8214,    6,  206, ...,    0,    0,    0],\n",
       "        [8214,   14,  134, ...,    0,    0,    0]], dtype=int64)>,\n",
       " <tf.Tensor: shape=(64, 37), dtype=int64, numpy=\n",
       " array([[8087,   15,   31, ...,    0,    0,    0],\n",
       "        [8087,   23,   83, ...,    0,    0,    0],\n",
       "        [8087,  393,  470, ...,    0,    0,    0],\n",
       "        ...,\n",
       "        [8087,   32,  892, ...,    0,    0,    0],\n",
       "        [8087,   18,  137, ...,    0,    0,    0],\n",
       "        [8087,  593,    6, ...,    0,    0,    0]], dtype=int64)>)"
      ]
     },
     "execution_count": 14,
     "metadata": {},
     "output_type": "execute_result"
    }
   ],
   "source": [
    "pt_batch, en_batch = next(iter(train_dataset))\n",
    "pt_batch, en_batch"
   ]
  },
  {
   "cell_type": "markdown",
   "metadata": {
    "id": "NWqxyz59bdbf"
   },
   "source": [
    "# Positional encoding"
   ]
  },
  {
   "cell_type": "code",
   "execution_count": 15,
   "metadata": {
    "colab": {
     "base_uri": "https://localhost:8080/",
     "height": 286
    },
    "id": "7GM2f68LkayK",
    "outputId": "e0c7b6bb-49ab-4576-e460-8398873bf6c2"
   },
   "outputs": [
    {
     "data": {
      "text/plain": [
       "<matplotlib.collections.QuadMesh at 0x1e9610321f0>"
      ]
     },
     "execution_count": 15,
     "metadata": {},
     "output_type": "execute_result"
    },
    {
     "data": {
      "image/png": "[encoded data removed]",
      "text/plain": [
       "<Figure size 432x288 with 1 Axes>"
      ]
     },
     "metadata": {
      "needs_background": "light"
     },
     "output_type": "display_data"
    }
   ],
   "source": [
    "def get_angle(pos, i, d_model):\n",
    "    angle =1 / np.power(10000, (2 * (i//2)) / tf.cast(d_model, tf.float32))\n",
    "    return pos * angle\n",
    "\n",
    "def position_encoding(pos, d_model):\n",
    "    array = get_angle(np.arange(pos)[:, np.newaxis], np.arange(d_model)[np.newaxis, :], d_model)\n",
    "    array[:,0::2] = np.sin(array[:,0::2])\n",
    "    array[:,1::2] = np.cos(array[:,1::2])\n",
    "    return tf.cast(array[np.newaxis,:,:], np.float32)\n",
    "\n",
    "\n",
    "encoded = position_encoding(50,512)\n",
    "# print(encoded.shape)\n",
    "plt.pcolormesh(encoded[0], cmap = 'RdBu')"
   ]
  },
  {
   "cell_type": "markdown",
   "metadata": {
    "id": "hmSv7COH_mIu"
   },
   "source": [
    "# Scaled Dot Product Attention"
   ]
  },
  {
   "cell_type": "code",
   "execution_count": 16,
   "metadata": {
    "id": "cA8yMdOV463S"
   },
   "outputs": [],
   "source": [
    "def create_padding_mask(seq):\n",
    "    seq = tf.cast(tf.math.equal(seq, 0), tf.float32)\n",
    "    # print('seq', seq.shape)\n",
    "    # print(seq[:, tf.newaxis, tf.newaxis, :].shape)\n",
    "    return seq[:, tf.newaxis, tf.newaxis, :]\n"
   ]
  },
  {
   "cell_type": "code",
   "execution_count": 17,
   "metadata": {
    "colab": {
     "base_uri": "https://localhost:8080/"
    },
    "id": "47xlgUe14_hw",
    "outputId": "de5c7d83-9385-4111-bb6e-491eeed89285"
   },
   "outputs": [
    {
     "data": {
      "text/plain": [
       "<tf.Tensor: shape=(3, 1, 1, 5), dtype=float32, numpy=\n",
       "array([[[[0., 0., 1., 1., 0.]]],\n",
       "\n",
       "\n",
       "       [[[0., 0., 0., 1., 1.]]],\n",
       "\n",
       "\n",
       "       [[[1., 1., 1., 0., 0.]]]], dtype=float32)>"
      ]
     },
     "execution_count": 17,
     "metadata": {},
     "output_type": "execute_result"
    }
   ],
   "source": [
    "x = tf.constant([[7,5,0,0,1], [1,2,3,0,0],[0,0,0,4,5]])\n",
    "create_padding_mask(x)"
   ]
  },
  {
   "cell_type": "code",
   "execution_count": 18,
   "metadata": {
    "colab": {
     "base_uri": "https://localhost:8080/"
    },
    "id": "ElRxUEXA40WU",
    "outputId": "ea1e87a4-1cb0-4a1f-8c0c-a679304cbf9b"
   },
   "outputs": [
    {
     "data": {
      "text/plain": [
       "<tf.Tensor: shape=(5, 5), dtype=float32, numpy=\n",
       "array([[0., 1., 1., 1., 1.],\n",
       "       [0., 0., 1., 1., 1.],\n",
       "       [0., 0., 0., 1., 1.],\n",
       "       [0., 0., 0., 0., 1.],\n",
       "       [0., 0., 0., 0., 0.]], dtype=float32)>"
      ]
     },
     "execution_count": 18,
     "metadata": {},
     "output_type": "execute_result"
    }
   ],
   "source": [
    "def create_look_ahead_mask(size):\n",
    "    mask = 1 - tf.linalg.band_part(tf.ones((size, size)), -1, 0)\n",
    "    # print(mask.shape)\n",
    "    return mask\n",
    "create_look_ahead_mask(5)"
   ]
  },
  {
   "cell_type": "code",
   "execution_count": 19,
   "metadata": {
    "id": "WGCZ-1rJotDe"
   },
   "outputs": [],
   "source": [
    "def scaled_dot_product_attention(v, k, q, mask = None):\n",
    "  # shape of q, k, v :- (head, seq_len, depth)\n",
    "    dk = q.shape[-1]\n",
    "    dk = tf.cast(dk, tf.float32)\n",
    "\n",
    "    matmul_qk = tf.matmul(q, k, transpose_b = True) # (head, seq_len_q, , seq_len_k)\n",
    "    scaled_attention_logits = matmul_qk / tf.math.sqrt(dk)\n",
    "    # print('scaled_attention_logits',scaled_attention_logits.shape)\n",
    "    # print('mask',mask.shape)\n",
    "\n",
    "    if mask is not None:\n",
    "        scaled_attention_logits +=  (mask * -1e9) \n",
    "\n",
    "    attention_weights = tf.nn.softmax(scaled_attention_logits, axis = -1)  # (... , seq_len_q, seq_len_k)\n",
    "\n",
    "    output = tf.matmul(attention_weights, tf.cast(v, tf.float32))\n",
    "\n",
    "    return output # ( head, seq_len, depth)\n",
    "\n",
    "# sample scaled_dot_product_attention\n",
    "# sample_q = tf.random.normal([8,40, 64])\n",
    "# sample_v = tf.random.normal([8,39, 64])\n",
    "# output , attention_weights = scaled_dot_product_attention(sample_q,sample_q,sample_v)\n",
    "\n",
    "# print(output.shape, attention_weights)"
   ]
  },
  {
   "cell_type": "markdown",
   "metadata": {
    "id": "s_O-8eOmEa2_"
   },
   "source": [
    "#Multi Head Attention"
   ]
  },
  {
   "cell_type": "code",
   "execution_count": 58,
   "metadata": {
    "id": "nGbUKS1dDPpq"
   },
   "outputs": [],
   "source": [
    "class MultiHeadAtten(tf.keras.layers.Layer):\n",
    "    def __init__(self, d_model, num_heads):\n",
    "        super(MultiHeadAtten, self).__init__()\n",
    "\n",
    "        self.d_model = d_model\n",
    "        self.num_heads = num_heads\n",
    "\n",
    "        self.depth = self.d_model//self.num_heads\n",
    "\n",
    "        self.wv = tf.keras.layers.Dense(d_model)\n",
    "        self.wk = tf.keras.layers.Dense(d_model)\n",
    "        self.wq = tf.keras.layers.Dense(d_model)\n",
    "\n",
    "        self.final = tf.keras.layers.Dense(d_model)\n",
    "\n",
    "    def split_heads(self, x, batch_size):\n",
    "        x =  tf.reshape(x, (batch_size, -1, self.num_heads, self.depth))\n",
    "        return tf.transpose(x, perm = [0, 2, 1, 3])\n",
    "    \n",
    "    def call(self, v, k, q, mask):\n",
    "        batch_size = tf.shape(q)[0]\n",
    "\n",
    "        v = self.wv(v)\n",
    "        k = self.wv(k)\n",
    "        q = self.wv(q) #batch_size, seq_len , d_model\n",
    "\n",
    "        v = self.split_heads(v, batch_size)\n",
    "        k = self.split_heads(k, batch_size)\n",
    "        q = self.split_heads(q, batch_size) # batch_size heads, seq_len, depth\n",
    "\n",
    "        scaled_attention = scaled_dot_product_attention(v, k, q, mask)  #batch_size, heads, seq_len, depth\n",
    "\n",
    "        scaled_attention = tf.transpose(scaled_attention , perm = [0,2,1,3])\n",
    "\n",
    "        concat = tf.reshape(scaled_attention, (batch_size,-1, self.d_model))\n",
    "\n",
    "        output = self.final(concat)\n",
    "\n",
    "        return output"
   ]
  },
  {
   "cell_type": "code",
   "execution_count": 59,
   "metadata": {
    "colab": {
     "base_uri": "https://localhost:8080/"
    },
    "id": "XqLeG4M6D_gx",
    "outputId": "5e9472f1-2237-4a02-a60b-95ba471f68dc"
   },
   "outputs": [
    {
     "data": {
      "text/plain": [
       "TensorShape([1, 40, 512])"
      ]
     },
     "execution_count": 59,
     "metadata": {},
     "output_type": "execute_result"
    }
   ],
   "source": [
    "sample_input = tf.random.normal((1, 40,512))\n",
    "\n",
    "mha = MultiHeadAtten(512, 8)\n",
    "mha(sample_input, sample_input, sample_input, mask = None).shape\n",
    "\n",
    "# sample_input.reshape(-1, 8, 64)"
   ]
  },
  {
   "cell_type": "markdown",
   "metadata": {
    "id": "yJjU2vcuxuPM"
   },
   "source": [
    "#Feed Forward Neural Network"
   ]
  },
  {
   "cell_type": "code",
   "execution_count": 60,
   "metadata": {
    "id": "Yu7d0jWem-GU"
   },
   "outputs": [],
   "source": [
    "def feed_forward_neural_network(d_model, dff):\n",
    "    return tf.keras.Sequential([\n",
    "      tf.keras.layers.Dense(dff, activation = 'relu'),\n",
    "      tf.keras.layers.Dense(d_model)\n",
    "    ])"
   ]
  },
  {
   "cell_type": "code",
   "execution_count": 61,
   "metadata": {
    "colab": {
     "base_uri": "https://localhost:8080/"
    },
    "id": "c7nyfmwKnnaM",
    "outputId": "0c366f93-9306-4aa8-9a7c-4d5bf6202208"
   },
   "outputs": [
    {
     "data": {
      "text/plain": [
       "TensorShape([1, 40, 512])"
      ]
     },
     "execution_count": 61,
     "metadata": {},
     "output_type": "execute_result"
    }
   ],
   "source": [
    "ffnn = feed_forward_neural_network(512, 2048)\n",
    "ffnn(tf.random.uniform((1,40,512))).shape"
   ]
  },
  {
   "cell_type": "code",
   "execution_count": null,
   "metadata": {
    "id": "4ry02laCzwm4"
   },
   "outputs": [],
   "source": []
  },
  {
   "cell_type": "markdown",
   "metadata": {
    "id": "qxIblcMW0oVX"
   },
   "source": [
    "# Encoder Layer"
   ]
  },
  {
   "cell_type": "code",
   "execution_count": 62,
   "metadata": {
    "id": "RJZxKtAS0Vih"
   },
   "outputs": [],
   "source": [
    "class EncoderLayer(tf.keras.layers.Layer):\n",
    "    def __init__(self, d_model, num_heads, dff):\n",
    "        super(EncoderLayer, self).__init__()\n",
    "        self.d_model = d_model\n",
    "        self.num_heads = num_heads\n",
    "        self.dff = dff\n",
    "\n",
    "        self.layernorm1 = tf.keras.layers.LayerNormalization(epsilon = 1e-6)\n",
    "        self.layernorm2 = tf.keras.layers.LayerNormalization(epsilon = 1e-6)\n",
    "\n",
    "        self.mha = MultiHeadAtten(self.d_model, self.num_heads)\n",
    "        self.ffnn = feed_forward_neural_network(self.d_model, self.dff)\n",
    "\n",
    "    def call(self, x, mask):\n",
    "        attention = self.mha(x, x, x, mask)\n",
    "\n",
    "        norm1 = self.layernorm1(x + attention)\n",
    "\n",
    "        ffnn_output = self.ffnn(norm1)\n",
    "\n",
    "        norm2 = self.layernorm2(norm1 + ffnn_output)\n",
    "\n",
    "        return norm2"
   ]
  },
  {
   "cell_type": "code",
   "execution_count": 63,
   "metadata": {
    "colab": {
     "base_uri": "https://localhost:8080/"
    },
    "id": "n5kvRWVAdlrY",
    "outputId": "decda18c-1fa3-4cc2-e98e-b1030b39ecab"
   },
   "outputs": [
    {
     "data": {
      "text/plain": [
       "TensorShape([1, 40, 512])"
      ]
     },
     "execution_count": 63,
     "metadata": {},
     "output_type": "execute_result"
    }
   ],
   "source": [
    "sample_encoding_layer = EncoderLayer(512, 8, 2048)\n",
    "\n",
    "temp_input = tf.random.normal((1,40,512))\n",
    "\n",
    "output_encoding_layer = sample_encoding_layer(temp_input, None)\n",
    "output_encoding_layer.shape"
   ]
  },
  {
   "cell_type": "code",
   "execution_count": null,
   "metadata": {
    "id": "ILLRMd0BeiL_"
   },
   "outputs": [],
   "source": []
  },
  {
   "cell_type": "markdown",
   "metadata": {
    "id": "UvptaDSOe0EP"
   },
   "source": [
    "# Decoding Layer"
   ]
  },
  {
   "cell_type": "code",
   "execution_count": 64,
   "metadata": {
    "id": "v8Mi2RUFe1kC"
   },
   "outputs": [],
   "source": [
    "class DecoderLayer(tf.keras.layers.Layer):\n",
    "    def __init__(self, d_model, num_heads, dff):\n",
    "        super(DecoderLayer, self).__init__()\n",
    "        self.d_model = d_model\n",
    "        self.num_heads = num_heads\n",
    "        self.dff = dff\n",
    "\n",
    "        self.layernorm1 = tf.keras.layers.LayerNormalization(epsilon = 1e-6)\n",
    "        self.layernorm2 = tf.keras.layers.LayerNormalization(epsilon = 1e-6)\n",
    "        self.layernorm3 = tf.keras.layers.LayerNormalization(epsilon = 1e-6)\n",
    "\n",
    "        self.mha1 = MultiHeadAtten(self.d_model, self.num_heads)\n",
    "        self.mha2 = MultiHeadAtten(self.d_model, self.num_heads)\n",
    "\n",
    "        self.ffnn = feed_forward_neural_network(self.d_model, self.dff)\n",
    "\n",
    "    def call(self, x, enc_output, dec_padding_mask, look_ahead_mask):\n",
    "        attention1 = self.mha1(x, x, x, look_ahead_mask )\n",
    "        norm1 = self.layernorm1(attention1 + x)\n",
    "\n",
    "        attention2 = self.mha2(enc_output, enc_output, norm1, dec_padding_mask)\n",
    "        norm2 = self.layernorm2(norm1 + attention2)    \n",
    "\n",
    "        ffnn_output = self.ffnn(norm2)\n",
    "        norm3 = self.layernorm3(norm2 + ffnn_output)\n",
    "\n",
    "        return norm3"
   ]
  },
  {
   "cell_type": "code",
   "execution_count": 65,
   "metadata": {
    "colab": {
     "base_uri": "https://localhost:8080/"
    },
    "id": "UJeEC6JIg4UF",
    "outputId": "4c4626c0-49fa-487f-f162-819b34c9cf35"
   },
   "outputs": [
    {
     "data": {
      "text/plain": [
       "TensorShape([1, 40, 512])"
      ]
     },
     "execution_count": 65,
     "metadata": {},
     "output_type": "execute_result"
    }
   ],
   "source": [
    "sample_decoding_layer = DecoderLayer(512, 8, 2048)\n",
    "\n",
    "temp_output = tf.random.normal((1,40,512))\n",
    "\n",
    "output_encoding_layer = sample_decoding_layer(temp_output, output_encoding_layer, None, None)\n",
    "output_encoding_layer.shape"
   ]
  },
  {
   "cell_type": "markdown",
   "metadata": {
    "id": "49eXnUIXhzBc"
   },
   "source": [
    "# Encoder"
   ]
  },
  {
   "cell_type": "code",
   "execution_count": 66,
   "metadata": {
    "id": "Y4QBaDJ5hRDy"
   },
   "outputs": [],
   "source": [
    "class Encoder(tf.keras.layers.Layer):\n",
    "    def __init__(self, d_model, num_heads, num_layers, dff,input_vocab_size, max_position_encoding):\n",
    "        super(Encoder, self).__init__()\n",
    "        self.d_model = d_model\n",
    "        self.num_layers = num_layers\n",
    "\n",
    "        self.embedding = tf.keras.layers.Embedding(input_vocab_size, self.d_model)\n",
    "\n",
    "        self.pos_encoding = position_encoding(max_position_encoding, self.d_model)\n",
    "\n",
    "        self.encoding_layer = [EncoderLayer(d_model, num_heads, dff) for _ in range(self.num_layers)]\n",
    "\n",
    "\n",
    "    def call(self, x, enc_padding_mask):\n",
    "        seq_len = tf.shape(x)[1]\n",
    "\n",
    "        input = self.embedding(x)\n",
    "        # print(tf.shape(input))\n",
    "         # 40 * input_vocab_size\n",
    "        # input 40 * 512\n",
    "\n",
    "        input *= tf.math.sqrt(tf.cast(self.d_model, tf.float32))\n",
    "        input += self.pos_encoding[:, :seq_len, :]\n",
    "\n",
    "        # print(tf.shape(self.pos_encoding[:,:seq_len, :]))\n",
    "        # print(tf.shape(input))\n",
    "\n",
    "        for i in range(self.num_layers):\n",
    "            input = self.encoding_layer[i](input, enc_padding_mask)\n",
    "\n",
    "        return input\n"
   ]
  },
  {
   "cell_type": "code",
   "execution_count": 67,
   "metadata": {
    "colab": {
     "base_uri": "https://localhost:8080/"
    },
    "id": "q8AzmyUQpqmd",
    "outputId": "342f0528-4315-4542-c261-a35ea306ead2"
   },
   "outputs": [
    {
     "data": {
      "text/plain": [
       "TensorShape([64, 40, 512])"
      ]
     },
     "execution_count": 67,
     "metadata": {},
     "output_type": "execute_result"
    }
   ],
   "source": [
    "sample_encoder = Encoder(512, 8, 6, 2048,8000, 50)\n",
    "\n",
    "input_x = tf.random.uniform((64,40))\n",
    "\n",
    "encoder_out = sample_encoder(input_x, None)\n",
    "encoder_out.shape"
   ]
  },
  {
   "cell_type": "markdown",
   "metadata": {
    "id": "neDyVj9CtDx4"
   },
   "source": [
    "# Decoder"
   ]
  },
  {
   "cell_type": "code",
   "execution_count": 68,
   "metadata": {
    "id": "gTjqsR7AtC-M"
   },
   "outputs": [],
   "source": [
    "class Decoder(tf.keras.layers.Layer):\n",
    "    def __init__(self, d_model, num_heads, num_layers, dff, output_vocab_size, max_position_encoding):\n",
    "        super(Decoder, self).__init__()\n",
    "        self.d_model = d_model\n",
    "        self.num_layers = num_layers\n",
    "\n",
    "        self.embedding = tf.keras.layers.Embedding(output_vocab_size, self.d_model)\n",
    "\n",
    "        self.pos_encoding = position_encoding(max_position_encoding, self.d_model)\n",
    "\n",
    "        self.decoding_layer = [DecoderLayer(d_model, num_heads, dff) for _ in range(self.num_layers)]\n",
    "\n",
    "    # self.final = tf.keras.layers.Dense(tokenizer_en.vocab_size)\n",
    "\n",
    "\n",
    "    def call(self, x, enc_output, dec_padding_mask, look_ahead_mask):\n",
    "        seq_len = tf.shape(x)[1]\n",
    "\n",
    "        input_logits = self.embedding(x)\n",
    "        input_logits *= tf.math.sqrt(tf.cast(self.d_model, tf.float32))\n",
    "        input_logits += self.pos_encoding[:, :seq_len, :]\n",
    "\n",
    "        for i in range(self.num_layers):\n",
    "            input_logits = self.decoding_layer[i](input_logits, enc_output, dec_padding_mask, look_ahead_mask)\n",
    "\n",
    "\n",
    "\n",
    "        return input_logits"
   ]
  },
  {
   "cell_type": "code",
   "execution_count": 69,
   "metadata": {
    "colab": {
     "base_uri": "https://localhost:8080/"
    },
    "id": "weAitCALwli7",
    "outputId": "13f2e286-00ab-4d69-f4dc-549946bda628"
   },
   "outputs": [
    {
     "data": {
      "text/plain": [
       "TensorShape([64, 26, 512])"
      ]
     },
     "execution_count": 69,
     "metadata": {},
     "output_type": "execute_result"
    }
   ],
   "source": [
    "sample_decoder = Decoder(512, 8, 6, 2048,8000, 50)\n",
    "\n",
    "temp_inputd = tf.random.uniform((64, 26))\n",
    "\n",
    "decoder_out = sample_decoder(temp_inputd, encoder_out, None, None)\n",
    "decoder_out.shape"
   ]
  },
  {
   "cell_type": "markdown",
   "metadata": {
    "id": "Tzc-xrSbZxoU"
   },
   "source": [
    "# Copied"
   ]
  },
  {
   "cell_type": "markdown",
   "metadata": {
    "id": "ls_YAEt1Z4td"
   },
   "source": [
    "#Transformer"
   ]
  },
  {
   "cell_type": "code",
   "execution_count": 70,
   "metadata": {
    "id": "-AHehy48Z6CB"
   },
   "outputs": [],
   "source": [
    "class Transformer(tf.keras.Model):\n",
    "    def __init__(self, d_model, num_heads, num_layers, dff, input_vocab_size, output_vocab_size, max_position_encoding ):\n",
    "        super(Transformer, self).__init__()\n",
    "\n",
    "        self.encoder = Encoder(d_model, num_heads, num_layers, dff, input_vocab_size, max_position_encoding)\n",
    "\n",
    "        self.decoder = Decoder(d_model, num_heads, num_layers, dff, output_vocab_size, max_position_encoding)\n",
    "\n",
    "        self.final_layer = tf.keras.layers.Dense(output_vocab_size)\n",
    "\n",
    "    def call(self, x, tar_inp, enc_padding_mask, dec_padding_mask, look_ahead_mask, training):\n",
    "        encoder_output= self.encoder(x, enc_padding_mask)\n",
    "\n",
    "        dec_output = self.decoder(tar_inp, encoder_output, dec_padding_mask, look_ahead_mask)\n",
    "\n",
    "        final_output = self.final_layer(dec_output)\n",
    "\n",
    "        return final_output"
   ]
  },
  {
   "cell_type": "code",
   "execution_count": 71,
   "metadata": {
    "colab": {
     "base_uri": "https://localhost:8080/"
    },
    "id": "rjMS7OlwgnPY",
    "outputId": "cc579d3f-5f2f-43a8-8661-eac856d1fa07"
   },
   "outputs": [
    {
     "data": {
      "text/plain": [
       "TensorShape([64, 26, 8000])"
      ]
     },
     "execution_count": 71,
     "metadata": {},
     "output_type": "execute_result"
    }
   ],
   "source": [
    "sampletransformer = Transformer(512,8,4,2048,8000, 8000, 50)\n",
    "final_output = sampletransformer(input_x, temp_inputd, None, None, None)\n",
    "final_output.shape"
   ]
  },
  {
   "cell_type": "markdown",
   "metadata": {
    "id": "Iso5QGLRbHOX"
   },
   "source": [
    "# Hyperparameters"
   ]
  },
  {
   "cell_type": "code",
   "execution_count": 72,
   "metadata": {
    "id": "7EP7m3QzbKJo"
   },
   "outputs": [],
   "source": [
    "num_layers = 4\n",
    "d_model = 128\n",
    "dff = 512\n",
    "num_heads= 4\n",
    "input_vocab_size = tokenizer_pt.vocab_size + 2\n",
    "output_vocab_size = tokenizer_en.vocab_size + 2\n",
    "# dropout_rate = 0.1"
   ]
  },
  {
   "cell_type": "code",
   "execution_count": 73,
   "metadata": {
    "colab": {
     "base_uri": "https://localhost:8080/"
    },
    "id": "61q4kh7lYlHF",
    "outputId": "67efe3cb-5a41-4d62-fdf4-514e5f8d6f6f"
   },
   "outputs": [
    {
     "data": {
      "text/plain": [
       "8089"
      ]
     },
     "execution_count": 73,
     "metadata": {},
     "output_type": "execute_result"
    }
   ],
   "source": [
    "output_vocab_size"
   ]
  },
  {
   "cell_type": "markdown",
   "metadata": {
    "id": "nmtZMbCubQ0Q"
   },
   "source": [
    "# Optimizer"
   ]
  },
  {
   "cell_type": "code",
   "execution_count": 74,
   "metadata": {
    "id": "eNea6uiRSAn1"
   },
   "outputs": [],
   "source": [
    "class CustomSchedule(tf.keras.optimizers.schedules.LearningRateSchedule):\n",
    "    def __init__(self, d_model, warmup_steps=4000):\n",
    "        super(CustomSchedule, self).__init__()\n",
    "\n",
    "        self.d_model = d_model\n",
    "        self.d_model = tf.cast(self.d_model, tf.float32)\n",
    "\n",
    "        self.warmup_steps = warmup_steps\n",
    "    \n",
    "    def __call__(self, step):\n",
    "        step = tf.cast(step, tf.float32)\n",
    "        arg1 = tf.math.rsqrt(step)\n",
    "        arg2 = step * (self.warmup_steps ** -1.5)\n",
    "\n",
    "        return tf.math.rsqrt(self.d_model) * tf.math.minimum(arg1, arg2)\n",
    "\n",
    "learning_rate = CustomSchedule(d_model)\n",
    "\n",
    "optimizer = tf.keras.optimizers.Adam(learning_rate, beta_1=0.9, beta_2=0.98, epsilon=1e-9)"
   ]
  },
  {
   "cell_type": "markdown",
   "metadata": {
    "id": "FvNwR6dhbcXp"
   },
   "source": [
    "# Loss and metrics"
   ]
  },
  {
   "cell_type": "code",
   "execution_count": 75,
   "metadata": {
    "id": "ZIBPxmpkSJRQ"
   },
   "outputs": [],
   "source": [
    "loss_object = tf.keras.losses.SparseCategoricalCrossentropy(\n",
    "    from_logits=True, reduction='none')\n",
    "\n",
    "def loss_function(real, pred):\n",
    "    mask = tf.math.logical_not(tf.math.equal(real, 0))\n",
    "    loss_ = loss_object(real, pred)\n",
    "\n",
    "    mask = tf.cast(mask, dtype=loss_.dtype)\n",
    "    loss_ *= mask\n",
    "\n",
    "    return tf.reduce_sum(loss_)/tf.reduce_sum(mask)\n",
    "\n",
    "train_loss = tf.keras.metrics.Mean(name='train_loss')\n",
    "train_accuracy = tf.keras.metrics.SparseCategoricalAccuracy(\n",
    "    name='train_accuracy')"
   ]
  },
  {
   "cell_type": "markdown",
   "metadata": {
    "id": "282Jca0XbfNr"
   },
   "source": [
    "# Training"
   ]
  },
  {
   "cell_type": "code",
   "execution_count": 76,
   "metadata": {
    "id": "pDA-ZLDmSV3O"
   },
   "outputs": [],
   "source": [
    "transformer = Transformer(d_model, num_heads, num_layers, dff, input_vocab_size, output_vocab_size, max_position_encoding = 50)"
   ]
  },
  {
   "cell_type": "code",
   "execution_count": 77,
   "metadata": {
    "id": "VKnW7EPZ4LbJ"
   },
   "outputs": [],
   "source": [
    "def create_mask(inp, tar):\n",
    "    enc_padding_mask = create_padding_mask(inp)\n",
    "\n",
    "    dec_padding_mask = create_padding_mask(inp)\n",
    "\n",
    "    look_ahead_mask = create_look_ahead_mask(tf.shape(tar)[1])\n",
    "\n",
    "    dec_target_padding_mask = create_padding_mask(tar)\n",
    "\n",
    "    combined_mask = tf.maximum(dec_target_padding_mask, look_ahead_mask)\n",
    "\n",
    "    return enc_padding_mask, dec_padding_mask, combined_mask"
   ]
  },
  {
   "cell_type": "code",
   "execution_count": 78,
   "metadata": {
    "id": "e-BtruNAghza"
   },
   "outputs": [],
   "source": [
    "train_step_signature = [\n",
    "    tf.TensorSpec(shape=(None, None), dtype=tf.int64),\n",
    "    tf.TensorSpec(shape=(None, None), dtype=tf.int64),\n",
    "]\n",
    "\n",
    "@tf.function(input_signature=train_step_signature)\n",
    "def train_step(inp, tar):\n",
    "    tar_inp = tar[:, :-1]\n",
    "    tar_real = tar[:, 1:]\n",
    "  \n",
    "    enc_padding_mask, dec_padding_mask, combined_mask,  = create_mask(inp, tar_inp)\n",
    "\n",
    "    with tf.GradientTape() as tape:\n",
    "        predictions = transformer(inp, tar_inp, enc_padding_mask, dec_padding_mask, combined_mask, True)\n",
    "        loss = loss_function(tar_real, predictions)\n",
    "\n",
    "    gradients = tape.gradient(loss, transformer.trainable_variables)    \n",
    "    optimizer.apply_gradients(zip(gradients, transformer.trainable_variables))\n",
    "\n",
    "    train_loss(loss)\n",
    "    train_accuracy(tar_real, predictions)\n",
    "\n"
   ]
  },
  {
   "cell_type": "code",
   "execution_count": 44,
   "metadata": {
    "colab": {
     "base_uri": "https://localhost:8080/",
     "height": 235
    },
    "id": "FlN0oiY0C8Ls",
    "outputId": "eac5612a-0268-4ea9-d50e-42d46d95713c"
   },
   "outputs": [
    {
     "name": "stdout",
     "output_type": "stream",
     "text": [
      "Epoch 1 Batch 0 Loss 5.2553 Accuracy 0.1066\n",
      "Epoch 1 Batch 50 Loss 5.2306 Accuracy 0.1187\n",
      "Epoch 1 Batch 100 Loss 5.1556 Accuracy 0.1208\n",
      "Epoch 1 Batch 150 Loss 5.1068 Accuracy 0.1232\n",
      "Epoch 1 Batch 200 Loss 5.0706 Accuracy 0.1254\n",
      "Epoch 1 Batch 250 Loss 5.0317 Accuracy 0.1270\n",
      "Epoch 1 Batch 300 Loss 4.9975 Accuracy 0.1290\n",
      "Epoch 1 Batch 350 Loss 4.9634 Accuracy 0.1307\n",
      "Epoch 1 Batch 400 Loss 4.9291 Accuracy 0.1324\n",
      "Epoch 1 Batch 450 Loss 4.8941 Accuracy 0.1344\n",
      "Epoch 1 Batch 500 Loss 4.8593 Accuracy 0.1362\n",
      "Epoch 1 Batch 550 Loss 4.8268 Accuracy 0.1381\n",
      "Epoch 1 Batch 600 Loss 4.7939 Accuracy 0.1402\n",
      "Epoch 1 Batch 650 Loss 4.7594 Accuracy 0.1425\n",
      "Epoch 1 Batch 700 Loss 4.7271 Accuracy 0.1443\n",
      "Epoch 1 Loss 4.7258 Accuracy 0.1444\n",
      "Time taken for 1 epoch: 773.7730734348297 secs\n",
      "\n",
      "Epoch 2 Batch 0 Loss 4.2672 Accuracy 0.1990\n",
      "Epoch 2 Batch 50 Loss 4.1516 Accuracy 0.1775\n",
      "Epoch 2 Batch 100 Loss 4.1606 Accuracy 0.1773\n",
      "Epoch 2 Batch 150 Loss 4.1321 Accuracy 0.1781\n",
      "Epoch 2 Batch 200 Loss 4.1164 Accuracy 0.1797\n",
      "Epoch 2 Batch 250 Loss 4.1003 Accuracy 0.1799\n",
      "Epoch 2 Batch 300 Loss 4.0865 Accuracy 0.1806\n",
      "Epoch 2 Batch 350 Loss 4.0649 Accuracy 0.1819\n",
      "Epoch 2 Batch 400 Loss 4.0446 Accuracy 0.1831\n",
      "Epoch 2 Batch 450 Loss 4.0275 Accuracy 0.1841\n",
      "Epoch 2 Batch 500 Loss 4.0059 Accuracy 0.1850\n",
      "Epoch 2 Batch 550 Loss 3.9892 Accuracy 0.1860\n",
      "Epoch 2 Batch 600 Loss 3.9698 Accuracy 0.1869\n",
      "Epoch 2 Batch 650 Loss 3.9488 Accuracy 0.1882\n",
      "Epoch 2 Batch 700 Loss 3.9302 Accuracy 0.1891\n",
      "Epoch 2 Loss 3.9294 Accuracy 0.1892\n",
      "Time taken for 1 epoch: 823.9658608436584 secs\n",
      "\n",
      "Epoch 3 Batch 0 Loss 3.3360 Accuracy 0.2170\n",
      "Epoch 3 Batch 50 Loss 3.5179 Accuracy 0.2131\n",
      "Epoch 3 Batch 100 Loss 3.4999 Accuracy 0.2125\n",
      "Epoch 3 Batch 150 Loss 3.4897 Accuracy 0.2130\n",
      "Epoch 3 Batch 200 Loss 3.4793 Accuracy 0.2128\n",
      "Epoch 3 Batch 250 Loss 3.4703 Accuracy 0.2130\n",
      "Epoch 3 Batch 300 Loss 3.4669 Accuracy 0.2139\n",
      "Epoch 3 Batch 350 Loss 3.4540 Accuracy 0.2145\n",
      "Epoch 3 Batch 400 Loss 3.4402 Accuracy 0.2152\n",
      "Epoch 3 Batch 450 Loss 3.4269 Accuracy 0.2157\n",
      "Epoch 3 Batch 500 Loss 3.4119 Accuracy 0.2160\n",
      "Epoch 3 Batch 550 Loss 3.3984 Accuracy 0.2167\n",
      "Epoch 3 Batch 600 Loss 3.3876 Accuracy 0.2174\n",
      "Epoch 3 Batch 650 Loss 3.3750 Accuracy 0.2180\n",
      "Epoch 3 Batch 700 Loss 3.3657 Accuracy 0.2182\n",
      "Epoch 3 Loss 3.3656 Accuracy 0.2182\n",
      "Time taken for 1 epoch: 8399.543694257736 secs\n",
      "\n",
      "Epoch 4 Batch 0 Loss 3.0384 Accuracy 0.2139\n",
      "Epoch 4 Batch 50 Loss 2.9810 Accuracy 0.2336\n",
      "Epoch 4 Batch 100 Loss 2.9854 Accuracy 0.2361\n",
      "Epoch 4 Batch 150 Loss 2.9904 Accuracy 0.2355\n",
      "Epoch 4 Batch 200 Loss 2.9814 Accuracy 0.2355\n",
      "Epoch 4 Batch 250 Loss 2.9798 Accuracy 0.2361\n",
      "Epoch 4 Batch 300 Loss 2.9661 Accuracy 0.2366\n",
      "Epoch 4 Batch 350 Loss 2.9635 Accuracy 0.2369\n",
      "Epoch 4 Batch 400 Loss 2.9544 Accuracy 0.2371\n",
      "Epoch 4 Batch 450 Loss 2.9461 Accuracy 0.2377\n",
      "Epoch 4 Batch 500 Loss 2.9398 Accuracy 0.2383\n",
      "Epoch 4 Batch 550 Loss 2.9317 Accuracy 0.2386\n",
      "Epoch 4 Batch 600 Loss 2.9239 Accuracy 0.2390\n",
      "Epoch 4 Batch 650 Loss 2.9192 Accuracy 0.2391\n",
      "Epoch 4 Batch 700 Loss 2.9122 Accuracy 0.2397\n",
      "Epoch 4 Loss 2.9119 Accuracy 0.2398\n",
      "Time taken for 1 epoch: 544.3057472705841 secs\n",
      "\n",
      "Epoch 5 Batch 0 Loss 2.7688 Accuracy 0.2744\n",
      "Epoch 5 Batch 50 Loss 2.6156 Accuracy 0.2515\n",
      "Epoch 5 Batch 100 Loss 2.5986 Accuracy 0.2529\n",
      "Epoch 5 Batch 150 Loss 2.5993 Accuracy 0.2526\n",
      "Epoch 5 Batch 200 Loss 2.5965 Accuracy 0.2528\n",
      "Epoch 5 Batch 250 Loss 2.5952 Accuracy 0.2531\n",
      "Epoch 5 Batch 300 Loss 2.5972 Accuracy 0.2526\n",
      "Epoch 5 Batch 350 Loss 2.5996 Accuracy 0.2529\n",
      "Epoch 5 Batch 400 Loss 2.5966 Accuracy 0.2538\n",
      "Epoch 5 Batch 450 Loss 2.5926 Accuracy 0.2546\n",
      "Epoch 5 Batch 500 Loss 2.5890 Accuracy 0.2546\n",
      "Epoch 5 Batch 550 Loss 2.5901 Accuracy 0.2545\n",
      "Epoch 5 Batch 600 Loss 2.5894 Accuracy 0.2546\n",
      "Epoch 5 Batch 650 Loss 2.5885 Accuracy 0.2546\n",
      "Epoch 5 Batch 700 Loss 2.5855 Accuracy 0.2546\n",
      "Epoch 5 Loss 2.5850 Accuracy 0.2546\n",
      "Time taken for 1 epoch: 570.954183101654 secs\n",
      "\n",
      "Epoch 6 Batch 0 Loss 2.3560 Accuracy 0.2520\n",
      "Epoch 6 Batch 50 Loss 2.2707 Accuracy 0.2698\n",
      "Epoch 6 Batch 100 Loss 2.2907 Accuracy 0.2693\n",
      "Epoch 6 Batch 150 Loss 2.2883 Accuracy 0.2707\n",
      "Epoch 6 Batch 200 Loss 2.2941 Accuracy 0.2703\n",
      "Epoch 6 Batch 250 Loss 2.2980 Accuracy 0.2702\n",
      "Epoch 6 Batch 300 Loss 2.2980 Accuracy 0.2698\n",
      "Epoch 6 Batch 350 Loss 2.2993 Accuracy 0.2700\n",
      "Epoch 6 Batch 400 Loss 2.2974 Accuracy 0.2706\n",
      "Epoch 6 Batch 450 Loss 2.2967 Accuracy 0.2703\n",
      "Epoch 6 Batch 500 Loss 2.2966 Accuracy 0.2701\n",
      "Epoch 6 Batch 550 Loss 2.2982 Accuracy 0.2701\n",
      "Epoch 6 Batch 600 Loss 2.2988 Accuracy 0.2703\n",
      "Epoch 6 Batch 650 Loss 2.2986 Accuracy 0.2702\n",
      "Epoch 6 Batch 700 Loss 2.3006 Accuracy 0.2703\n",
      "Epoch 6 Loss 2.3003 Accuracy 0.2703\n",
      "Time taken for 1 epoch: 590.1773335933685 secs\n",
      "\n",
      "Epoch 7 Batch 0 Loss 1.8436 Accuracy 0.2620\n",
      "Epoch 7 Batch 50 Loss 1.9834 Accuracy 0.2860\n",
      "Epoch 7 Batch 100 Loss 2.0100 Accuracy 0.2878\n",
      "Epoch 7 Batch 150 Loss 2.0277 Accuracy 0.2857\n",
      "Epoch 7 Batch 200 Loss 2.0320 Accuracy 0.2851\n",
      "Epoch 7 Batch 250 Loss 2.0406 Accuracy 0.2843\n",
      "Epoch 7 Batch 300 Loss 2.0444 Accuracy 0.2840\n",
      "Epoch 7 Batch 350 Loss 2.0442 Accuracy 0.2841\n",
      "Epoch 7 Batch 400 Loss 2.0479 Accuracy 0.2844\n",
      "Epoch 7 Batch 450 Loss 2.0506 Accuracy 0.2848\n",
      "Epoch 7 Batch 500 Loss 2.0526 Accuracy 0.2849\n",
      "Epoch 7 Batch 550 Loss 2.0546 Accuracy 0.2851\n",
      "Epoch 7 Batch 600 Loss 2.0580 Accuracy 0.2850\n",
      "Epoch 7 Batch 650 Loss 2.0555 Accuracy 0.2853\n",
      "Epoch 7 Batch 700 Loss 2.0585 Accuracy 0.2851\n",
      "Epoch 7 Loss 2.0588 Accuracy 0.2851\n",
      "Time taken for 1 epoch: 598.3540320396423 secs\n",
      "\n",
      "Epoch 8 Batch 0 Loss 1.8721 Accuracy 0.2965\n",
      "Epoch 8 Batch 50 Loss 1.7775 Accuracy 0.2997\n",
      "Epoch 8 Batch 100 Loss 1.8089 Accuracy 0.2990\n",
      "Epoch 8 Batch 150 Loss 1.8201 Accuracy 0.2994\n",
      "Epoch 8 Batch 200 Loss 1.8306 Accuracy 0.2983\n",
      "Epoch 8 Batch 250 Loss 1.8336 Accuracy 0.2977\n",
      "Epoch 8 Batch 300 Loss 1.8457 Accuracy 0.2981\n",
      "Epoch 8 Batch 350 Loss 1.8494 Accuracy 0.2980\n",
      "Epoch 8 Batch 400 Loss 1.8508 Accuracy 0.2971\n",
      "Epoch 8 Batch 450 Loss 1.8546 Accuracy 0.2969\n",
      "Epoch 8 Batch 500 Loss 1.8589 Accuracy 0.2968\n",
      "Epoch 8 Batch 550 Loss 1.8621 Accuracy 0.2968\n",
      "Epoch 8 Batch 600 Loss 1.8662 Accuracy 0.2961\n",
      "Epoch 8 Batch 650 Loss 1.8723 Accuracy 0.2957\n",
      "Epoch 8 Batch 700 Loss 1.8771 Accuracy 0.2954\n",
      "Epoch 8 Loss 1.8766 Accuracy 0.2953\n",
      "Time taken for 1 epoch: 590.8522794246674 secs\n",
      "\n",
      "Epoch 9 Batch 0 Loss 1.5594 Accuracy 0.3312\n",
      "Epoch 9 Batch 50 Loss 1.6223 Accuracy 0.3134\n",
      "Epoch 9 Batch 100 Loss 1.6386 Accuracy 0.3112\n",
      "Epoch 9 Batch 150 Loss 1.6552 Accuracy 0.3100\n",
      "Epoch 9 Batch 200 Loss 1.6609 Accuracy 0.3096\n",
      "Epoch 9 Batch 250 Loss 1.6736 Accuracy 0.3083\n",
      "Epoch 9 Batch 300 Loss 1.6775 Accuracy 0.3083\n",
      "Epoch 9 Batch 350 Loss 1.6838 Accuracy 0.3077\n",
      "Epoch 9 Batch 400 Loss 1.6856 Accuracy 0.3079\n",
      "Epoch 9 Batch 450 Loss 1.6928 Accuracy 0.3076\n",
      "Epoch 9 Batch 500 Loss 1.6982 Accuracy 0.3077\n",
      "Epoch 9 Batch 550 Loss 1.7032 Accuracy 0.3069\n",
      "Epoch 9 Batch 600 Loss 1.7088 Accuracy 0.3066\n",
      "Epoch 9 Batch 650 Loss 1.7178 Accuracy 0.3058\n",
      "Epoch 9 Batch 700 Loss 1.7255 Accuracy 0.3053\n",
      "Epoch 9 Loss 1.7260 Accuracy 0.3052\n",
      "Time taken for 1 epoch: 504.17354106903076 secs\n",
      "\n",
      "Epoch 10 Batch 0 Loss 1.5101 Accuracy 0.3089\n",
      "Epoch 10 Batch 50 Loss 1.5285 Accuracy 0.3181\n",
      "Epoch 10 Batch 100 Loss 1.5077 Accuracy 0.3183\n",
      "Epoch 10 Batch 150 Loss 1.5226 Accuracy 0.3179\n",
      "Epoch 10 Batch 200 Loss 1.5304 Accuracy 0.3184\n",
      "Epoch 10 Batch 250 Loss 1.5403 Accuracy 0.3175\n",
      "Epoch 10 Batch 300 Loss 1.5478 Accuracy 0.3169\n",
      "Epoch 10 Batch 350 Loss 1.5565 Accuracy 0.3162\n",
      "Epoch 10 Batch 400 Loss 1.5629 Accuracy 0.3158\n",
      "Epoch 10 Batch 450 Loss 1.5699 Accuracy 0.3155\n",
      "Epoch 10 Batch 500 Loss 1.5756 Accuracy 0.3154\n",
      "Epoch 10 Batch 550 Loss 1.5815 Accuracy 0.3148\n",
      "Epoch 10 Batch 600 Loss 1.5871 Accuracy 0.3141\n",
      "Epoch 10 Batch 650 Loss 1.5930 Accuracy 0.3142\n",
      "Epoch 10 Batch 700 Loss 1.5967 Accuracy 0.3137\n",
      "Epoch 10 Loss 1.5967 Accuracy 0.3137\n",
      "Time taken for 1 epoch: 485.35279965400696 secs\n",
      "\n"
     ]
    }
   ],
   "source": [
    "import time\n",
    "for epoch in range(10):\n",
    "    start = time.time()\n",
    "\n",
    "    train_loss.reset_states()\n",
    "    train_accuracy.reset_states()\n",
    "\n",
    "    # inp -> portuguese, tar -> english\n",
    "    for (batch, (inp, tar)) in enumerate(train_dataset):\n",
    "        train_step(inp, tar)\n",
    "    \n",
    "        if batch % 50 == 0:\n",
    "            print ('Epoch {} Batch {} Loss {:.4f} Accuracy {:.4f}'.format(\n",
    "                epoch + 1, batch, train_loss.result(), train_accuracy.result()))\n",
    "\n",
    "    \n",
    "    print ('Epoch {} Loss {:.4f} Accuracy {:.4f}'.format(epoch + 1, \n",
    "                                                train_loss.result(), \n",
    "                                                train_accuracy.result()))\n",
    "\n",
    "    print ('Time taken for 1 epoch: {} secs\\n'.format(time.time() - start))"
   ]
  },
  {
   "cell_type": "code",
   "execution_count": null,
   "metadata": {
    "id": "d02GEOD1J_gF"
   },
   "outputs": [],
   "source": []
  },
  {
   "cell_type": "markdown",
   "metadata": {
    "id": "cOneK71xNZD5"
   },
   "source": [
    "#Evaluate"
   ]
  },
  {
   "cell_type": "code",
   "execution_count": 45,
   "metadata": {
    "id": "d53svFpNRA61"
   },
   "outputs": [],
   "source": [
    "def evaluate(inp_sentence):\n",
    "    start_token = [tokenizer_pt.vocab_size]\n",
    "    end_token = [tokenizer_pt.vocab_size + 1]\n",
    "\n",
    "    inp_sentence = start_token + tokenizer_pt.encode(inp_sentence) + end_token\n",
    "    encoder_input = tf.expand_dims(inp_sentence, 0)\n",
    "\n",
    "    decoder_input = [tokenizer_en.vocab_size]\n",
    "    output = tf.expand_dims(decoder_input, 0)\n",
    "\n",
    "    for i in range(MAX_LENGTH):\n",
    "        enc_padding_mask, dec_padding_mask, combined_mask = create_mask(\n",
    "            encoder_input, output)\n",
    "\n",
    "        predictions = transformer(encoder_input, output, enc_padding_mask, dec_padding_mask, combined_mask, False)\n",
    "\n",
    "\n",
    "\n",
    "        predictions = predictions[: ,-1:, :]  # (batch_size, 1, vocab_size)\n",
    "\n",
    "        predicted_id = tf.cast(tf.argmax(predictions, axis=-1), tf.int32)\n",
    "\n",
    "        if predicted_id == tokenizer_en.vocab_size+1:\n",
    "            return tf.squeeze(output, axis=0)\n",
    "    \n",
    "        output = tf.concat([output, predicted_id], axis=-1)\n",
    "\n",
    "    return tf.squeeze(output, axis=0)"
   ]
  },
  {
   "cell_type": "code",
   "execution_count": 46,
   "metadata": {
    "id": "mTm_g2dd_q6_"
   },
   "outputs": [],
   "source": [
    "def translate(sentence):\n",
    "    result = evaluate(sentence)\n",
    "\n",
    "    predicted_sentence = tokenizer_en.decode([i for i in result \n",
    "                                            if i < tokenizer_en.vocab_size])  \n",
    "\n",
    "    print('Input: {}'.format(sentence))\n",
    "    print('Predicted translation: {}'.format(predicted_sentence))\n",
    "  "
   ]
  },
  {
   "cell_type": "code",
   "execution_count": 86,
   "metadata": {
    "colab": {
     "base_uri": "https://localhost:8080/"
    },
    "id": "jVpf8-Ef_1Zs",
    "outputId": "254b4d1b-6094-4df1-df29-2d31a8f04afa"
   },
   "outputs": [
    {
     "name": "stdout",
     "output_type": "stream",
     "text": [
      "Input: os meus vizinhos ouviram sobre esta ideia.\n",
      "Predicted translation: my neighbors heard about this idea .\n",
      "Real translation: and my neighboring homes heard about this idea .\n"
     ]
    }
   ],
   "source": [
    "translate(\"os meus vizinhos ouviram sobre esta ideia.\")\n",
    "print (\"Real translation: and my neighboring homes heard about this idea .\")"
   ]
  },
  {
   "cell_type": "code",
   "execution_count": 87,
   "metadata": {
    "colab": {
     "base_uri": "https://localhost:8080/"
    },
    "id": "yuawt5Ad_2Pw",
    "outputId": "8e5bfc30-db9d-4ef2-ba61-97896f9bb2af"
   },
   "outputs": [
    {
     "name": "stdout",
     "output_type": "stream",
     "text": [
      "Input: vou então muito rapidamente partilhar convosco algumas histórias de algumas coisas mágicas que aconteceram.\n",
      "Predicted translation: so i will then go very quickly to share some of some bad things that happened .\n",
      "Real translation: so i 'll just share with you some stories very quickly of some magical things that have happened .\n"
     ]
    }
   ],
   "source": [
    "translate(\"vou então muito rapidamente partilhar convosco algumas histórias de algumas coisas mágicas que aconteceram.\")\n",
    "print (\"Real translation: so i 'll just share with you some stories very quickly of some magical things that have happened .\")"
   ]
  },
  {
   "cell_type": "code",
   "execution_count": 88,
   "metadata": {
    "colab": {
     "base_uri": "https://localhost:8080/"
    },
    "id": "WKarHPCh_uJg",
    "outputId": "29f3f2b0-fdd0-465a-d357-e0f44dd14081"
   },
   "outputs": [
    {
     "name": "stdout",
     "output_type": "stream",
     "text": [
      "Input: este é um problema que temos que resolver.\n",
      "Predicted translation: this is a problem that we have to solve today .\n",
      "Real translation: this is a problem we have to solve .\n"
     ]
    }
   ],
   "source": [
    "translate(\"este é um problema que temos que resolver.\")\n",
    "print (\"Real translation: this is a problem we have to solve .\")"
   ]
  },
  {
   "cell_type": "code",
   "execution_count": null,
   "metadata": {
    "id": "5jkKV-TUnf6g"
   },
   "outputs": [],
   "source": []
  },
  {
   "cell_type": "code",
   "execution_count": null,
   "metadata": {},
   "outputs": [],
   "source": []
  },
  {
   "cell_type": "code",
   "execution_count": null,
   "metadata": {},
   "outputs": [],
   "source": []
  }
 ],
 "metadata": {
  "colab": {
   "provenance": [],
   "toc_visible": true
  },
  "kernelspec": {
   "display_name": "Python 3 (ipykernel)",
   "language": "python",
   "name": "python3"
  },
  "language_info": {
   "codemirror_mode": {
    "name": "ipython",
    "version": 3
   },
   "file_extension": ".py",
   "mimetype": "text/x-python",
   "name": "python",
   "nbconvert_exporter": "python",
   "pygments_lexer": "ipython3",
   "version": "3.9.7"
  },
  "widgets": {
   "application/vnd.jupyter.widget-state+json": {
    "011c168ab8204fa4b61ef0ae35ed620a": {
     "model_module": "@jupyter-widgets/controls",
     "model_module_version": "1.5.0",
     "model_name": "HTMLModel",
     "state": {
      "_dom_classes": [],
      "_model_module": "@jupyter-widgets/controls",
      "_model_module_version": "1.5.0",
      "_model_name": "HTMLModel",
      "_view_count": null,
      "_view_module": "@jupyter-widgets/controls",
      "_view_module_version": "1.5.0",
      "_view_name": "HTMLView",
      "description": "",
      "description_tooltip": null,
      "layout": "IPY_MODEL_2b2d5f6bccd44033b49daeffb5f18d51",
      "placeholder": "​",
      "style": "IPY_MODEL_0699a76e0dc346f0965ef2f68d8a9fd5",
      "value": "Shuffling /root/tensorflow_datasets/ted_hrlr_translate/pt_to_en/1.0.0.incomplete56VXPN/ted_hrlr_translate-train.tfrecord*...:  72%"
     }
    },
    "02f225baf86349b2850d1ad0984a3311": {
     "model_module": "@jupyter-widgets/controls",
     "model_module_version": "1.5.0",
     "model_name": "HBoxModel",
     "state": {
      "_dom_classes": [],
      "_model_module": "@jupyter-widgets/controls",
      "_model_module_version": "1.5.0",
      "_model_name": "HBoxModel",
      "_view_count": null,
      "_view_module": "@jupyter-widgets/controls",
      "_view_module_version": "1.5.0",
      "_view_name": "HBoxView",
      "box_style": "",
      "children": [
       "IPY_MODEL_3fdfdfa4a5b347eea4453cda4b88522b",
       "IPY_MODEL_14587cfa53124467b7af036ce911ff1b",
       "IPY_MODEL_1b8d0268634e4927a0b752edf073b1a3"
      ],
      "layout": "IPY_MODEL_f17e3dc1774144d2979f92117a67a350"
     }
    },
    "030be249d7f545358629cf2aea204654": {
     "model_module": "@jupyter-widgets/controls",
     "model_module_version": "1.5.0",
     "model_name": "HBoxModel",
     "state": {
      "_dom_classes": [],
      "_model_module": "@jupyter-widgets/controls",
      "_model_module_version": "1.5.0",
      "_model_name": "HBoxModel",
      "_view_count": null,
      "_view_module": "@jupyter-widgets/controls",
      "_view_module_version": "1.5.0",
      "_view_name": "HBoxView",
      "box_style": "",
      "children": [
       "IPY_MODEL_67b7894ff8b84aa3b73e81ae26c748aa",
       "IPY_MODEL_8dc8a4e57b7c476ebc1dbd95cea89c3e",
       "IPY_MODEL_13f98bab561548baa53bd3c59a5fb017"
      ],
      "layout": "IPY_MODEL_5cde3f40c7f24ccda1194f58aa313e5c"
     }
    },
    "043a8ea8a6a14d1bb6d74a768f19157f": {
     "model_module": "@jupyter-widgets/controls",
     "model_module_version": "1.5.0",
     "model_name": "HBoxModel",
     "state": {
      "_dom_classes": [],
      "_model_module": "@jupyter-widgets/controls",
      "_model_module_version": "1.5.0",
      "_model_name": "HBoxModel",
      "_view_count": null,
      "_view_module": "@jupyter-widgets/controls",
      "_view_module_version": "1.5.0",
      "_view_name": "HBoxView",
      "box_style": "",
      "children": [
       "IPY_MODEL_88b19fea8db84a02a5c04f6bea1ace97",
       "IPY_MODEL_ab1c9ef7d16742a7801f93eb1a2c74ef",
       "IPY_MODEL_52022e50e4e040a286c899393935aab4"
      ],
      "layout": "IPY_MODEL_2dd1447174684a918647f5a718d79fc6"
     }
    },
    "0699a76e0dc346f0965ef2f68d8a9fd5": {
     "model_module": "@jupyter-widgets/controls",
     "model_module_version": "1.5.0",
     "model_name": "DescriptionStyleModel",
     "state": {
      "_model_module": "@jupyter-widgets/controls",
      "_model_module_version": "1.5.0",
      "_model_name": "DescriptionStyleModel",
      "_view_count": null,
      "_view_module": "@jupyter-widgets/base",
      "_view_module_version": "1.2.0",
      "_view_name": "StyleView",
      "description_width": ""
     }
    },
    "073decc4a5ea4153a069714aace145ee": {
     "model_module": "@jupyter-widgets/base",
     "model_module_version": "1.2.0",
     "model_name": "LayoutModel",
     "state": {
      "_model_module": "@jupyter-widgets/base",
      "_model_module_version": "1.2.0",
      "_model_name": "LayoutModel",
      "_view_count": null,
      "_view_module": "@jupyter-widgets/base",
      "_view_module_version": "1.2.0",
      "_view_name": "LayoutView",
      "align_content": null,
      "align_items": null,
      "align_self": null,
      "border": null,
      "bottom": null,
      "display": null,
      "flex": null,
      "flex_flow": null,
      "grid_area": null,
      "grid_auto_columns": null,
      "grid_auto_flow": null,
      "grid_auto_rows": null,
      "grid_column": null,
      "grid_gap": null,
      "grid_row": null,
      "grid_template_areas": null,
      "grid_template_columns": null,
      "grid_template_rows": null,
      "height": null,
      "justify_content": null,
      "justify_items": null,
      "left": null,
      "margin": null,
      "max_height": null,
      "max_width": null,
      "min_height": null,
      "min_width": null,
      "object_fit": null,
      "object_position": null,
      "order": null,
      "overflow": null,
      "overflow_x": null,
      "overflow_y": null,
      "padding": null,
      "right": null,
      "top": null,
      "visibility": "hidden",
      "width": null
     }
    },
    "08ffe4154a684afeb885fb7a5d385602": {
     "model_module": "@jupyter-widgets/base",
     "model_module_version": "1.2.0",
     "model_name": "LayoutModel",
     "state": {
      "_model_module": "@jupyter-widgets/base",
      "_model_module_version": "1.2.0",
      "_model_name": "LayoutModel",
      "_view_count": null,
      "_view_module": "@jupyter-widgets/base",
      "_view_module_version": "1.2.0",
      "_view_name": "LayoutView",
      "align_content": null,
      "align_items": null,
      "align_self": null,
      "border": null,
      "bottom": null,
      "display": null,
      "flex": null,
      "flex_flow": null,
      "grid_area": null,
      "grid_auto_columns": null,
      "grid_auto_flow": null,
      "grid_auto_rows": null,
      "grid_column": null,
      "grid_gap": null,
      "grid_row": null,
      "grid_template_areas": null,
      "grid_template_columns": null,
      "grid_template_rows": null,
      "height": null,
      "justify_content": null,
      "justify_items": null,
      "left": null,
      "margin": null,
      "max_height": null,
      "max_width": null,
      "min_height": null,
      "min_width": null,
      "object_fit": null,
      "object_position": null,
      "order": null,
      "overflow": null,
      "overflow_x": null,
      "overflow_y": null,
      "padding": null,
      "right": null,
      "top": null,
      "visibility": "hidden",
      "width": null
     }
    },
    "09001d444f614b33b626e219173a80ac": {
     "model_module": "@jupyter-widgets/base",
     "model_module_version": "1.2.0",
     "model_name": "LayoutModel",
     "state": {
      "_model_module": "@jupyter-widgets/base",
      "_model_module_version": "1.2.0",
      "_model_name": "LayoutModel",
      "_view_count": null,
      "_view_module": "@jupyter-widgets/base",
      "_view_module_version": "1.2.0",
      "_view_name": "LayoutView",
      "align_content": null,
      "align_items": null,
      "align_self": null,
      "border": null,
      "bottom": null,
      "display": null,
      "flex": null,
      "flex_flow": null,
      "grid_area": null,
      "grid_auto_columns": null,
      "grid_auto_flow": null,
      "grid_auto_rows": null,
      "grid_column": null,
      "grid_gap": null,
      "grid_row": null,
      "grid_template_areas": null,
      "grid_template_columns": null,
      "grid_template_rows": null,
      "height": null,
      "justify_content": null,
      "justify_items": null,
      "left": null,
      "margin": null,
      "max_height": null,
      "max_width": null,
      "min_height": null,
      "min_width": null,
      "object_fit": null,
      "object_position": null,
      "order": null,
      "overflow": null,
      "overflow_x": null,
      "overflow_y": null,
      "padding": null,
      "right": null,
      "top": null,
      "visibility": null,
      "width": null
     }
    },
    "12b7dddea170451eac5cd3aec025b3dc": {
     "model_module": "@jupyter-widgets/controls",
     "model_module_version": "1.5.0",
     "model_name": "DescriptionStyleModel",
     "state": {
      "_model_module": "@jupyter-widgets/controls",
      "_model_module_version": "1.5.0",
      "_model_name": "DescriptionStyleModel",
      "_view_count": null,
      "_view_module": "@jupyter-widgets/base",
      "_view_module_version": "1.2.0",
      "_view_name": "StyleView",
      "description_width": ""
     }
    },
    "130f313d29864b67bbf18cb6f299ffaa": {
     "model_module": "@jupyter-widgets/base",
     "model_module_version": "1.2.0",
     "model_name": "LayoutModel",
     "state": {
      "_model_module": "@jupyter-widgets/base",
      "_model_module_version": "1.2.0",
      "_model_name": "LayoutModel",
      "_view_count": null,
      "_view_module": "@jupyter-widgets/base",
      "_view_module_version": "1.2.0",
      "_view_name": "LayoutView",
      "align_content": null,
      "align_items": null,
      "align_self": null,
      "border": null,
      "bottom": null,
      "display": null,
      "flex": null,
      "flex_flow": null,
      "grid_area": null,
      "grid_auto_columns": null,
      "grid_auto_flow": null,
      "grid_auto_rows": null,
      "grid_column": null,
      "grid_gap": null,
      "grid_row": null,
      "grid_template_areas": null,
      "grid_template_columns": null,
      "grid_template_rows": null,
      "height": null,
      "justify_content": null,
      "justify_items": null,
      "left": null,
      "margin": null,
      "max_height": null,
      "max_width": null,
      "min_height": null,
      "min_width": null,
      "object_fit": null,
      "object_position": null,
      "order": null,
      "overflow": null,
      "overflow_x": null,
      "overflow_y": null,
      "padding": null,
      "right": null,
      "top": null,
      "visibility": null,
      "width": null
     }
    },
    "13f98bab561548baa53bd3c59a5fb017": {
     "model_module": "@jupyter-widgets/controls",
     "model_module_version": "1.5.0",
     "model_name": "HTMLModel",
     "state": {
      "_dom_classes": [],
      "_model_module": "@jupyter-widgets/controls",
      "_model_module_version": "1.5.0",
      "_model_name": "HTMLModel",
      "_view_count": null,
      "_view_module": "@jupyter-widgets/controls",
      "_view_module_version": "1.5.0",
      "_view_name": "HTMLView",
      "description": "",
      "description_tooltip": null,
      "layout": "IPY_MODEL_1ddca80001fb410b9c559ad16fc27833",
      "placeholder": "​",
      "style": "IPY_MODEL_34526557f99943eb82c11ba2dc5c40e4",
      "value": " 112/112 [01:22&lt;00:00,  1.01s/ file]"
     }
    },
    "14587cfa53124467b7af036ce911ff1b": {
     "model_module": "@jupyter-widgets/controls",
     "model_module_version": "1.5.0",
     "model_name": "FloatProgressModel",
     "state": {
      "_dom_classes": [],
      "_model_module": "@jupyter-widgets/controls",
      "_model_module_version": "1.5.0",
      "_model_name": "FloatProgressModel",
      "_view_count": null,
      "_view_module": "@jupyter-widgets/controls",
      "_view_module_version": "1.5.0",
      "_view_name": "ProgressView",
      "bar_style": "",
      "description": "",
      "description_tooltip": null,
      "layout": "IPY_MODEL_2add1fe73d424a1eb691bdd1243a5c6d",
      "max": 1803,
      "min": 0,
      "orientation": "horizontal",
      "style": "IPY_MODEL_9b3c38f276d145cda7a3a13f372dc348",
      "value": 1803
     }
    },
    "16be28ff98324d6e97037df204577d3e": {
     "model_module": "@jupyter-widgets/controls",
     "model_module_version": "1.5.0",
     "model_name": "DescriptionStyleModel",
     "state": {
      "_model_module": "@jupyter-widgets/controls",
      "_model_module_version": "1.5.0",
      "_model_name": "DescriptionStyleModel",
      "_view_count": null,
      "_view_module": "@jupyter-widgets/base",
      "_view_module_version": "1.2.0",
      "_view_name": "StyleView",
      "description_width": ""
     }
    },
    "17ee5016220f49358f567061d7df4ee3": {
     "model_module": "@jupyter-widgets/controls",
     "model_module_version": "1.5.0",
     "model_name": "DescriptionStyleModel",
     "state": {
      "_model_module": "@jupyter-widgets/controls",
      "_model_module_version": "1.5.0",
      "_model_name": "DescriptionStyleModel",
      "_view_count": null,
      "_view_module": "@jupyter-widgets/base",
      "_view_module_version": "1.2.0",
      "_view_name": "StyleView",
      "description_width": ""
     }
    },
    "17f3027c40704636973c647d8348f50b": {
     "model_module": "@jupyter-widgets/controls",
     "model_module_version": "1.5.0",
     "model_name": "DescriptionStyleModel",
     "state": {
      "_model_module": "@jupyter-widgets/controls",
      "_model_module_version": "1.5.0",
      "_model_name": "DescriptionStyleModel",
      "_view_count": null,
      "_view_module": "@jupyter-widgets/base",
      "_view_module_version": "1.2.0",
      "_view_name": "StyleView",
      "description_width": ""
     }
    },
    "1b8d0268634e4927a0b752edf073b1a3": {
     "model_module": "@jupyter-widgets/controls",
     "model_module_version": "1.5.0",
     "model_name": "HTMLModel",
     "state": {
      "_dom_classes": [],
      "_model_module": "@jupyter-widgets/controls",
      "_model_module_version": "1.5.0",
      "_model_name": "HTMLModel",
      "_view_count": null,
      "_view_module": "@jupyter-widgets/controls",
      "_view_module_version": "1.5.0",
      "_view_name": "HTMLView",
      "description": "",
      "description_tooltip": null,
      "layout": "IPY_MODEL_8a75213c29a1406cb001c7bc3efdb282",
      "placeholder": "​",
      "style": "IPY_MODEL_17f3027c40704636973c647d8348f50b",
      "value": " 0/1803 [00:00&lt;?, ? examples/s]"
     }
    },
    "1ddca80001fb410b9c559ad16fc27833": {
     "model_module": "@jupyter-widgets/base",
     "model_module_version": "1.2.0",
     "model_name": "LayoutModel",
     "state": {
      "_model_module": "@jupyter-widgets/base",
      "_model_module_version": "1.2.0",
      "_model_name": "LayoutModel",
      "_view_count": null,
      "_view_module": "@jupyter-widgets/base",
      "_view_module_version": "1.2.0",
      "_view_name": "LayoutView",
      "align_content": null,
      "align_items": null,
      "align_self": null,
      "border": null,
      "bottom": null,
      "display": null,
      "flex": null,
      "flex_flow": null,
      "grid_area": null,
      "grid_auto_columns": null,
      "grid_auto_flow": null,
      "grid_auto_rows": null,
      "grid_column": null,
      "grid_gap": null,
      "grid_row": null,
      "grid_template_areas": null,
      "grid_template_columns": null,
      "grid_template_rows": null,
      "height": null,
      "justify_content": null,
      "justify_items": null,
      "left": null,
      "margin": null,
      "max_height": null,
      "max_width": null,
      "min_height": null,
      "min_width": null,
      "object_fit": null,
      "object_position": null,
      "order": null,
      "overflow": null,
      "overflow_x": null,
      "overflow_y": null,
      "padding": null,
      "right": null,
      "top": null,
      "visibility": null,
      "width": null
     }
    },
    "1f509360e6e340e1a353ebf4a0e3a20d": {
     "model_module": "@jupyter-widgets/controls",
     "model_module_version": "1.5.0",
     "model_name": "ProgressStyleModel",
     "state": {
      "_model_module": "@jupyter-widgets/controls",
      "_model_module_version": "1.5.0",
      "_model_name": "ProgressStyleModel",
      "_view_count": null,
      "_view_module": "@jupyter-widgets/base",
      "_view_module_version": "1.2.0",
      "_view_name": "StyleView",
      "bar_color": null,
      "description_width": ""
     }
    },
    "210d1bdfa9144e06a2338abeee283de8": {
     "model_module": "@jupyter-widgets/controls",
     "model_module_version": "1.5.0",
     "model_name": "HBoxModel",
     "state": {
      "_dom_classes": [],
      "_model_module": "@jupyter-widgets/controls",
      "_model_module_version": "1.5.0",
      "_model_name": "HBoxModel",
      "_view_count": null,
      "_view_module": "@jupyter-widgets/controls",
      "_view_module_version": "1.5.0",
      "_view_name": "HBoxView",
      "box_style": "",
      "children": [
       "IPY_MODEL_f324092eea9e421db1114b50f4eb4ea3",
       "IPY_MODEL_7adbfddd5a9943dc8d68c1e48bb50230",
       "IPY_MODEL_eb5cb69c4bdc4799b97b85b5a2310d88"
      ],
      "layout": "IPY_MODEL_259e7e403e0140b7b462fc62fbb79bd3"
     }
    },
    "22ca1bb76f7e4bb9b71828f81145dac7": {
     "model_module": "@jupyter-widgets/base",
     "model_module_version": "1.2.0",
     "model_name": "LayoutModel",
     "state": {
      "_model_module": "@jupyter-widgets/base",
      "_model_module_version": "1.2.0",
      "_model_name": "LayoutModel",
      "_view_count": null,
      "_view_module": "@jupyter-widgets/base",
      "_view_module_version": "1.2.0",
      "_view_name": "LayoutView",
      "align_content": null,
      "align_items": null,
      "align_self": null,
      "border": null,
      "bottom": null,
      "display": null,
      "flex": null,
      "flex_flow": null,
      "grid_area": null,
      "grid_auto_columns": null,
      "grid_auto_flow": null,
      "grid_auto_rows": null,
      "grid_column": null,
      "grid_gap": null,
      "grid_row": null,
      "grid_template_areas": null,
      "grid_template_columns": null,
      "grid_template_rows": null,
      "height": null,
      "justify_content": null,
      "justify_items": null,
      "left": null,
      "margin": null,
      "max_height": null,
      "max_width": null,
      "min_height": null,
      "min_width": null,
      "object_fit": null,
      "object_position": null,
      "order": null,
      "overflow": null,
      "overflow_x": null,
      "overflow_y": null,
      "padding": null,
      "right": null,
      "top": null,
      "visibility": null,
      "width": null
     }
    },
    "259e7e403e0140b7b462fc62fbb79bd3": {
     "model_module": "@jupyter-widgets/base",
     "model_module_version": "1.2.0",
     "model_name": "LayoutModel",
     "state": {
      "_model_module": "@jupyter-widgets/base",
      "_model_module_version": "1.2.0",
      "_model_name": "LayoutModel",
      "_view_count": null,
      "_view_module": "@jupyter-widgets/base",
      "_view_module_version": "1.2.0",
      "_view_name": "LayoutView",
      "align_content": null,
      "align_items": null,
      "align_self": null,
      "border": null,
      "bottom": null,
      "display": null,
      "flex": null,
      "flex_flow": null,
      "grid_area": null,
      "grid_auto_columns": null,
      "grid_auto_flow": null,
      "grid_auto_rows": null,
      "grid_column": null,
      "grid_gap": null,
      "grid_row": null,
      "grid_template_areas": null,
      "grid_template_columns": null,
      "grid_template_rows": null,
      "height": null,
      "justify_content": null,
      "justify_items": null,
      "left": null,
      "margin": null,
      "max_height": null,
      "max_width": null,
      "min_height": null,
      "min_width": null,
      "object_fit": null,
      "object_position": null,
      "order": null,
      "overflow": null,
      "overflow_x": null,
      "overflow_y": null,
      "padding": null,
      "right": null,
      "top": null,
      "visibility": "hidden",
      "width": null
     }
    },
    "29bc0ba98d44465f9f969f36849f6b3c": {
     "model_module": "@jupyter-widgets/base",
     "model_module_version": "1.2.0",
     "model_name": "LayoutModel",
     "state": {
      "_model_module": "@jupyter-widgets/base",
      "_model_module_version": "1.2.0",
      "_model_name": "LayoutModel",
      "_view_count": null,
      "_view_module": "@jupyter-widgets/base",
      "_view_module_version": "1.2.0",
      "_view_name": "LayoutView",
      "align_content": null,
      "align_items": null,
      "align_self": null,
      "border": null,
      "bottom": null,
      "display": null,
      "flex": null,
      "flex_flow": null,
      "grid_area": null,
      "grid_auto_columns": null,
      "grid_auto_flow": null,
      "grid_auto_rows": null,
      "grid_column": null,
      "grid_gap": null,
      "grid_row": null,
      "grid_template_areas": null,
      "grid_template_columns": null,
      "grid_template_rows": null,
      "height": null,
      "justify_content": null,
      "justify_items": null,
      "left": null,
      "margin": null,
      "max_height": null,
      "max_width": null,
      "min_height": null,
      "min_width": null,
      "object_fit": null,
      "object_position": null,
      "order": null,
      "overflow": null,
      "overflow_x": null,
      "overflow_y": null,
      "padding": null,
      "right": null,
      "top": null,
      "visibility": null,
      "width": null
     }
    },
    "29ff228f32a94ec5a952b65adf4b7e48": {
     "model_module": "@jupyter-widgets/controls",
     "model_module_version": "1.5.0",
     "model_name": "DescriptionStyleModel",
     "state": {
      "_model_module": "@jupyter-widgets/controls",
      "_model_module_version": "1.5.0",
      "_model_name": "DescriptionStyleModel",
      "_view_count": null,
      "_view_module": "@jupyter-widgets/base",
      "_view_module_version": "1.2.0",
      "_view_name": "StyleView",
      "description_width": ""
     }
    },
    "2add1fe73d424a1eb691bdd1243a5c6d": {
     "model_module": "@jupyter-widgets/base",
     "model_module_version": "1.2.0",
     "model_name": "LayoutModel",
     "state": {
      "_model_module": "@jupyter-widgets/base",
      "_model_module_version": "1.2.0",
      "_model_name": "LayoutModel",
      "_view_count": null,
      "_view_module": "@jupyter-widgets/base",
      "_view_module_version": "1.2.0",
      "_view_name": "LayoutView",
      "align_content": null,
      "align_items": null,
      "align_self": null,
      "border": null,
      "bottom": null,
      "display": null,
      "flex": null,
      "flex_flow": null,
      "grid_area": null,
      "grid_auto_columns": null,
      "grid_auto_flow": null,
      "grid_auto_rows": null,
      "grid_column": null,
      "grid_gap": null,
      "grid_row": null,
      "grid_template_areas": null,
      "grid_template_columns": null,
      "grid_template_rows": null,
      "height": null,
      "justify_content": null,
      "justify_items": null,
      "left": null,
      "margin": null,
      "max_height": null,
      "max_width": null,
      "min_height": null,
      "min_width": null,
      "object_fit": null,
      "object_position": null,
      "order": null,
      "overflow": null,
      "overflow_x": null,
      "overflow_y": null,
      "padding": null,
      "right": null,
      "top": null,
      "visibility": null,
      "width": null
     }
    },
    "2b2d5f6bccd44033b49daeffb5f18d51": {
     "model_module": "@jupyter-widgets/base",
     "model_module_version": "1.2.0",
     "model_name": "LayoutModel",
     "state": {
      "_model_module": "@jupyter-widgets/base",
      "_model_module_version": "1.2.0",
      "_model_name": "LayoutModel",
      "_view_count": null,
      "_view_module": "@jupyter-widgets/base",
      "_view_module_version": "1.2.0",
      "_view_name": "LayoutView",
      "align_content": null,
      "align_items": null,
      "align_self": null,
      "border": null,
      "bottom": null,
      "display": null,
      "flex": null,
      "flex_flow": null,
      "grid_area": null,
      "grid_auto_columns": null,
      "grid_auto_flow": null,
      "grid_auto_rows": null,
      "grid_column": null,
      "grid_gap": null,
      "grid_row": null,
      "grid_template_areas": null,
      "grid_template_columns": null,
      "grid_template_rows": null,
      "height": null,
      "justify_content": null,
      "justify_items": null,
      "left": null,
      "margin": null,
      "max_height": null,
      "max_width": null,
      "min_height": null,
      "min_width": null,
      "object_fit": null,
      "object_position": null,
      "order": null,
      "overflow": null,
      "overflow_x": null,
      "overflow_y": null,
      "padding": null,
      "right": null,
      "top": null,
      "visibility": null,
      "width": null
     }
    },
    "2dd1447174684a918647f5a718d79fc6": {
     "model_module": "@jupyter-widgets/base",
     "model_module_version": "1.2.0",
     "model_name": "LayoutModel",
     "state": {
      "_model_module": "@jupyter-widgets/base",
      "_model_module_version": "1.2.0",
      "_model_name": "LayoutModel",
      "_view_count": null,
      "_view_module": "@jupyter-widgets/base",
      "_view_module_version": "1.2.0",
      "_view_name": "LayoutView",
      "align_content": null,
      "align_items": null,
      "align_self": null,
      "border": null,
      "bottom": null,
      "display": null,
      "flex": null,
      "flex_flow": null,
      "grid_area": null,
      "grid_auto_columns": null,
      "grid_auto_flow": null,
      "grid_auto_rows": null,
      "grid_column": null,
      "grid_gap": null,
      "grid_row": null,
      "grid_template_areas": null,
      "grid_template_columns": null,
      "grid_template_rows": null,
      "height": null,
      "justify_content": null,
      "justify_items": null,
      "left": null,
      "margin": null,
      "max_height": null,
      "max_width": null,
      "min_height": null,
      "min_width": null,
      "object_fit": null,
      "object_position": null,
      "order": null,
      "overflow": null,
      "overflow_x": null,
      "overflow_y": null,
      "padding": null,
      "right": null,
      "top": null,
      "visibility": null,
      "width": null
     }
    },
    "2e76f88d15784da0a187bccd6f6c75d4": {
     "model_module": "@jupyter-widgets/controls",
     "model_module_version": "1.5.0",
     "model_name": "FloatProgressModel",
     "state": {
      "_dom_classes": [],
      "_model_module": "@jupyter-widgets/controls",
      "_model_module_version": "1.5.0",
      "_model_name": "FloatProgressModel",
      "_view_count": null,
      "_view_module": "@jupyter-widgets/controls",
      "_view_module_version": "1.5.0",
      "_view_name": "ProgressView",
      "bar_style": "",
      "description": "",
      "description_tooltip": null,
      "layout": "IPY_MODEL_b970563fc2184a028bbccdc47ba3b640",
      "max": 51785,
      "min": 0,
      "orientation": "horizontal",
      "style": "IPY_MODEL_8a5ae9bcead64e6e8a3714376aefb88c",
      "value": 51785
     }
    },
    "34526557f99943eb82c11ba2dc5c40e4": {
     "model_module": "@jupyter-widgets/controls",
     "model_module_version": "1.5.0",
     "model_name": "DescriptionStyleModel",
     "state": {
      "_model_module": "@jupyter-widgets/controls",
      "_model_module_version": "1.5.0",
      "_model_name": "DescriptionStyleModel",
      "_view_count": null,
      "_view_module": "@jupyter-widgets/base",
      "_view_module_version": "1.2.0",
      "_view_name": "StyleView",
      "description_width": ""
     }
    },
    "3991a5366d13464ca69cf4b581049358": {
     "model_module": "@jupyter-widgets/controls",
     "model_module_version": "1.5.0",
     "model_name": "HTMLModel",
     "state": {
      "_dom_classes": [],
      "_model_module": "@jupyter-widgets/controls",
      "_model_module_version": "1.5.0",
      "_model_name": "HTMLModel",
      "_view_count": null,
      "_view_module": "@jupyter-widgets/controls",
      "_view_module_version": "1.5.0",
      "_view_name": "HTMLView",
      "description": "",
      "description_tooltip": null,
      "layout": "IPY_MODEL_a9aedf5e961945c985afc9af60eafa03",
      "placeholder": "​",
      "style": "IPY_MODEL_f09c4c66b8354e92a4f1ad085eae10ce",
      "value": "Generating test examples...:  69%"
     }
    },
    "3f4120f0154c4fb299304953d75c09da": {
     "model_module": "@jupyter-widgets/controls",
     "model_module_version": "1.5.0",
     "model_name": "HTMLModel",
     "state": {
      "_dom_classes": [],
      "_model_module": "@jupyter-widgets/controls",
      "_model_module_version": "1.5.0",
      "_model_name": "HTMLModel",
      "_view_count": null,
      "_view_module": "@jupyter-widgets/controls",
      "_view_module_version": "1.5.0",
      "_view_name": "HTMLView",
      "description": "",
      "description_tooltip": null,
      "layout": "IPY_MODEL_568143d0f9034f819cad34f1ae2dc38f",
      "placeholder": "​",
      "style": "IPY_MODEL_12b7dddea170451eac5cd3aec025b3dc",
      "value": " 51264/51785 [00:06&lt;00:00, 10194.67 examples/s]"
     }
    },
    "3fdfdfa4a5b347eea4453cda4b88522b": {
     "model_module": "@jupyter-widgets/controls",
     "model_module_version": "1.5.0",
     "model_name": "HTMLModel",
     "state": {
      "_dom_classes": [],
      "_model_module": "@jupyter-widgets/controls",
      "_model_module_version": "1.5.0",
      "_model_name": "HTMLModel",
      "_view_count": null,
      "_view_module": "@jupyter-widgets/controls",
      "_view_module_version": "1.5.0",
      "_view_name": "HTMLView",
      "description": "",
      "description_tooltip": null,
      "layout": "IPY_MODEL_9a760bc064c6450298510ead00c620ca",
      "placeholder": "​",
      "style": "IPY_MODEL_29ff228f32a94ec5a952b65adf4b7e48",
      "value": "Shuffling /root/tensorflow_datasets/ted_hrlr_translate/pt_to_en/1.0.0.incomplete56VXPN/ted_hrlr_translate-test.tfrecord*...:   0%"
     }
    },
    "44db3580a88f41e5ab0c110c3c183fa0": {
     "model_module": "@jupyter-widgets/controls",
     "model_module_version": "1.5.0",
     "model_name": "DescriptionStyleModel",
     "state": {
      "_model_module": "@jupyter-widgets/controls",
      "_model_module_version": "1.5.0",
      "_model_name": "DescriptionStyleModel",
      "_view_count": null,
      "_view_module": "@jupyter-widgets/base",
      "_view_module_version": "1.2.0",
      "_view_name": "StyleView",
      "description_width": ""
     }
    },
    "46fdaceeebcc4e178a883e346a756bed": {
     "model_module": "@jupyter-widgets/controls",
     "model_module_version": "1.5.0",
     "model_name": "ProgressStyleModel",
     "state": {
      "_model_module": "@jupyter-widgets/controls",
      "_model_module_version": "1.5.0",
      "_model_name": "ProgressStyleModel",
      "_view_count": null,
      "_view_module": "@jupyter-widgets/base",
      "_view_module_version": "1.2.0",
      "_view_name": "StyleView",
      "bar_color": null,
      "description_width": ""
     }
    },
    "4a57f76a9324414b9c0d2113ada93de5": {
     "model_module": "@jupyter-widgets/base",
     "model_module_version": "1.2.0",
     "model_name": "LayoutModel",
     "state": {
      "_model_module": "@jupyter-widgets/base",
      "_model_module_version": "1.2.0",
      "_model_name": "LayoutModel",
      "_view_count": null,
      "_view_module": "@jupyter-widgets/base",
      "_view_module_version": "1.2.0",
      "_view_name": "LayoutView",
      "align_content": null,
      "align_items": null,
      "align_self": null,
      "border": null,
      "bottom": null,
      "display": null,
      "flex": null,
      "flex_flow": null,
      "grid_area": null,
      "grid_auto_columns": null,
      "grid_auto_flow": null,
      "grid_auto_rows": null,
      "grid_column": null,
      "grid_gap": null,
      "grid_row": null,
      "grid_template_areas": null,
      "grid_template_columns": null,
      "grid_template_rows": null,
      "height": null,
      "justify_content": null,
      "justify_items": null,
      "left": null,
      "margin": null,
      "max_height": null,
      "max_width": null,
      "min_height": null,
      "min_width": null,
      "object_fit": null,
      "object_position": null,
      "order": null,
      "overflow": null,
      "overflow_x": null,
      "overflow_y": null,
      "padding": null,
      "right": null,
      "top": null,
      "visibility": null,
      "width": null
     }
    },
    "4ca64f8ce2784b89a6aeb634374e1f2c": {
     "model_module": "@jupyter-widgets/base",
     "model_module_version": "1.2.0",
     "model_name": "LayoutModel",
     "state": {
      "_model_module": "@jupyter-widgets/base",
      "_model_module_version": "1.2.0",
      "_model_name": "LayoutModel",
      "_view_count": null,
      "_view_module": "@jupyter-widgets/base",
      "_view_module_version": "1.2.0",
      "_view_name": "LayoutView",
      "align_content": null,
      "align_items": null,
      "align_self": null,
      "border": null,
      "bottom": null,
      "display": null,
      "flex": null,
      "flex_flow": null,
      "grid_area": null,
      "grid_auto_columns": null,
      "grid_auto_flow": null,
      "grid_auto_rows": null,
      "grid_column": null,
      "grid_gap": null,
      "grid_row": null,
      "grid_template_areas": null,
      "grid_template_columns": null,
      "grid_template_rows": null,
      "height": null,
      "justify_content": null,
      "justify_items": null,
      "left": null,
      "margin": null,
      "max_height": null,
      "max_width": null,
      "min_height": null,
      "min_width": null,
      "object_fit": null,
      "object_position": null,
      "order": null,
      "overflow": null,
      "overflow_x": null,
      "overflow_y": null,
      "padding": null,
      "right": null,
      "top": null,
      "visibility": null,
      "width": null
     }
    },
    "4cf683cbcccb480eadbbad89eeec8fd5": {
     "model_module": "@jupyter-widgets/controls",
     "model_module_version": "1.5.0",
     "model_name": "HBoxModel",
     "state": {
      "_dom_classes": [],
      "_model_module": "@jupyter-widgets/controls",
      "_model_module_version": "1.5.0",
      "_model_name": "HBoxModel",
      "_view_count": null,
      "_view_module": "@jupyter-widgets/controls",
      "_view_module_version": "1.5.0",
      "_view_name": "HBoxView",
      "box_style": "",
      "children": [
       "IPY_MODEL_011c168ab8204fa4b61ef0ae35ed620a",
       "IPY_MODEL_2e76f88d15784da0a187bccd6f6c75d4",
       "IPY_MODEL_c19a3459894f46d78d382732b1928c65"
      ],
      "layout": "IPY_MODEL_08ffe4154a684afeb885fb7a5d385602"
     }
    },
    "52022e50e4e040a286c899393935aab4": {
     "model_module": "@jupyter-widgets/controls",
     "model_module_version": "1.5.0",
     "model_name": "HTMLModel",
     "state": {
      "_dom_classes": [],
      "_model_module": "@jupyter-widgets/controls",
      "_model_module_version": "1.5.0",
      "_model_name": "HTMLModel",
      "_view_count": null,
      "_view_module": "@jupyter-widgets/controls",
      "_view_module_version": "1.5.0",
      "_view_name": "HTMLView",
      "description": "",
      "description_tooltip": null,
      "layout": "IPY_MODEL_92d71f30e2ef466b88619715bb0a2454",
      "placeholder": "​",
      "style": "IPY_MODEL_a4c97b9f60654b43ad576dfedaf70aeb",
      "value": " 1/1 [01:22&lt;00:00, 77.23s/ url]"
     }
    },
    "540ec004bc3c4f968f726731344ead79": {
     "model_module": "@jupyter-widgets/base",
     "model_module_version": "1.2.0",
     "model_name": "LayoutModel",
     "state": {
      "_model_module": "@jupyter-widgets/base",
      "_model_module_version": "1.2.0",
      "_model_name": "LayoutModel",
      "_view_count": null,
      "_view_module": "@jupyter-widgets/base",
      "_view_module_version": "1.2.0",
      "_view_name": "LayoutView",
      "align_content": null,
      "align_items": null,
      "align_self": null,
      "border": null,
      "bottom": null,
      "display": null,
      "flex": null,
      "flex_flow": null,
      "grid_area": null,
      "grid_auto_columns": null,
      "grid_auto_flow": null,
      "grid_auto_rows": null,
      "grid_column": null,
      "grid_gap": null,
      "grid_row": null,
      "grid_template_areas": null,
      "grid_template_columns": null,
      "grid_template_rows": null,
      "height": null,
      "justify_content": null,
      "justify_items": null,
      "left": null,
      "margin": null,
      "max_height": null,
      "max_width": null,
      "min_height": null,
      "min_width": null,
      "object_fit": null,
      "object_position": null,
      "order": null,
      "overflow": null,
      "overflow_x": null,
      "overflow_y": null,
      "padding": null,
      "right": null,
      "top": null,
      "visibility": "hidden",
      "width": null
     }
    },
    "558d9e79693f4f448803f5292c8daa25": {
     "model_module": "@jupyter-widgets/controls",
     "model_module_version": "1.5.0",
     "model_name": "HTMLModel",
     "state": {
      "_dom_classes": [],
      "_model_module": "@jupyter-widgets/controls",
      "_model_module_version": "1.5.0",
      "_model_name": "HTMLModel",
      "_view_count": null,
      "_view_module": "@jupyter-widgets/controls",
      "_view_module_version": "1.5.0",
      "_view_name": "HTMLView",
      "description": "",
      "description_tooltip": null,
      "layout": "IPY_MODEL_bf63465727e44fa69256d85880488380",
      "placeholder": "​",
      "style": "IPY_MODEL_691d53886f2448688826dbf35ac596f5",
      "value": "Generating train examples...:  99%"
     }
    },
    "568143d0f9034f819cad34f1ae2dc38f": {
     "model_module": "@jupyter-widgets/base",
     "model_module_version": "1.2.0",
     "model_name": "LayoutModel",
     "state": {
      "_model_module": "@jupyter-widgets/base",
      "_model_module_version": "1.2.0",
      "_model_name": "LayoutModel",
      "_view_count": null,
      "_view_module": "@jupyter-widgets/base",
      "_view_module_version": "1.2.0",
      "_view_name": "LayoutView",
      "align_content": null,
      "align_items": null,
      "align_self": null,
      "border": null,
      "bottom": null,
      "display": null,
      "flex": null,
      "flex_flow": null,
      "grid_area": null,
      "grid_auto_columns": null,
      "grid_auto_flow": null,
      "grid_auto_rows": null,
      "grid_column": null,
      "grid_gap": null,
      "grid_row": null,
      "grid_template_areas": null,
      "grid_template_columns": null,
      "grid_template_rows": null,
      "height": null,
      "justify_content": null,
      "justify_items": null,
      "left": null,
      "margin": null,
      "max_height": null,
      "max_width": null,
      "min_height": null,
      "min_width": null,
      "object_fit": null,
      "object_position": null,
      "order": null,
      "overflow": null,
      "overflow_x": null,
      "overflow_y": null,
      "padding": null,
      "right": null,
      "top": null,
      "visibility": null,
      "width": null
     }
    },
    "5933ffd55cb44b099229abf74747eeb2": {
     "model_module": "@jupyter-widgets/controls",
     "model_module_version": "1.5.0",
     "model_name": "DescriptionStyleModel",
     "state": {
      "_model_module": "@jupyter-widgets/controls",
      "_model_module_version": "1.5.0",
      "_model_name": "DescriptionStyleModel",
      "_view_count": null,
      "_view_module": "@jupyter-widgets/base",
      "_view_module_version": "1.2.0",
      "_view_name": "StyleView",
      "description_width": ""
     }
    },
    "5a64cd5aa37f4e57b1c1d8da381d86f5": {
     "model_module": "@jupyter-widgets/controls",
     "model_module_version": "1.5.0",
     "model_name": "HBoxModel",
     "state": {
      "_dom_classes": [],
      "_model_module": "@jupyter-widgets/controls",
      "_model_module_version": "1.5.0",
      "_model_name": "HBoxModel",
      "_view_count": null,
      "_view_module": "@jupyter-widgets/controls",
      "_view_module_version": "1.5.0",
      "_view_name": "HBoxView",
      "box_style": "",
      "children": [
       "IPY_MODEL_558d9e79693f4f448803f5292c8daa25",
       "IPY_MODEL_797eebbe1cad4273b0832b0143537181",
       "IPY_MODEL_3f4120f0154c4fb299304953d75c09da"
      ],
      "layout": "IPY_MODEL_540ec004bc3c4f968f726731344ead79"
     }
    },
    "5a9c85fc5f4f43bd9917b3e3af7667fe": {
     "model_module": "@jupyter-widgets/base",
     "model_module_version": "1.2.0",
     "model_name": "LayoutModel",
     "state": {
      "_model_module": "@jupyter-widgets/base",
      "_model_module_version": "1.2.0",
      "_model_name": "LayoutModel",
      "_view_count": null,
      "_view_module": "@jupyter-widgets/base",
      "_view_module_version": "1.2.0",
      "_view_name": "LayoutView",
      "align_content": null,
      "align_items": null,
      "align_self": null,
      "border": null,
      "bottom": null,
      "display": null,
      "flex": null,
      "flex_flow": null,
      "grid_area": null,
      "grid_auto_columns": null,
      "grid_auto_flow": null,
      "grid_auto_rows": null,
      "grid_column": null,
      "grid_gap": null,
      "grid_row": null,
      "grid_template_areas": null,
      "grid_template_columns": null,
      "grid_template_rows": null,
      "height": null,
      "justify_content": null,
      "justify_items": null,
      "left": null,
      "margin": null,
      "max_height": null,
      "max_width": null,
      "min_height": null,
      "min_width": null,
      "object_fit": null,
      "object_position": null,
      "order": null,
      "overflow": null,
      "overflow_x": null,
      "overflow_y": null,
      "padding": null,
      "right": null,
      "top": null,
      "visibility": null,
      "width": null
     }
    },
    "5cde3f40c7f24ccda1194f58aa313e5c": {
     "model_module": "@jupyter-widgets/base",
     "model_module_version": "1.2.0",
     "model_name": "LayoutModel",
     "state": {
      "_model_module": "@jupyter-widgets/base",
      "_model_module_version": "1.2.0",
      "_model_name": "LayoutModel",
      "_view_count": null,
      "_view_module": "@jupyter-widgets/base",
      "_view_module_version": "1.2.0",
      "_view_name": "LayoutView",
      "align_content": null,
      "align_items": null,
      "align_self": null,
      "border": null,
      "bottom": null,
      "display": null,
      "flex": null,
      "flex_flow": null,
      "grid_area": null,
      "grid_auto_columns": null,
      "grid_auto_flow": null,
      "grid_auto_rows": null,
      "grid_column": null,
      "grid_gap": null,
      "grid_row": null,
      "grid_template_areas": null,
      "grid_template_columns": null,
      "grid_template_rows": null,
      "height": null,
      "justify_content": null,
      "justify_items": null,
      "left": null,
      "margin": null,
      "max_height": null,
      "max_width": null,
      "min_height": null,
      "min_width": null,
      "object_fit": null,
      "object_position": null,
      "order": null,
      "overflow": null,
      "overflow_x": null,
      "overflow_y": null,
      "padding": null,
      "right": null,
      "top": null,
      "visibility": null,
      "width": null
     }
    },
    "5ea16179b9274c8f93fb5042ad39d952": {
     "model_module": "@jupyter-widgets/controls",
     "model_module_version": "1.5.0",
     "model_name": "HTMLModel",
     "state": {
      "_dom_classes": [],
      "_model_module": "@jupyter-widgets/controls",
      "_model_module_version": "1.5.0",
      "_model_name": "HTMLModel",
      "_view_count": null,
      "_view_module": "@jupyter-widgets/controls",
      "_view_module_version": "1.5.0",
      "_view_name": "HTMLView",
      "description": "",
      "description_tooltip": null,
      "layout": "IPY_MODEL_5a9c85fc5f4f43bd9917b3e3af7667fe",
      "placeholder": "​",
      "style": "IPY_MODEL_44db3580a88f41e5ab0c110c3c183fa0",
      "value": " 124/124 [01:22&lt;00:00,  1.52 MiB/s]"
     }
    },
    "6081512982a64e2d9d67b509803ce947": {
     "model_module": "@jupyter-widgets/controls",
     "model_module_version": "1.5.0",
     "model_name": "ProgressStyleModel",
     "state": {
      "_model_module": "@jupyter-widgets/controls",
      "_model_module_version": "1.5.0",
      "_model_name": "ProgressStyleModel",
      "_view_count": null,
      "_view_module": "@jupyter-widgets/base",
      "_view_module_version": "1.2.0",
      "_view_name": "StyleView",
      "bar_color": null,
      "description_width": ""
     }
    },
    "6346f42b29e045019fd239f9048ff88d": {
     "model_module": "@jupyter-widgets/controls",
     "model_module_version": "1.5.0",
     "model_name": "HTMLModel",
     "state": {
      "_dom_classes": [],
      "_model_module": "@jupyter-widgets/controls",
      "_model_module_version": "1.5.0",
      "_model_name": "HTMLModel",
      "_view_count": null,
      "_view_module": "@jupyter-widgets/controls",
      "_view_module_version": "1.5.0",
      "_view_name": "HTMLView",
      "description": "",
      "description_tooltip": null,
      "layout": "IPY_MODEL_09001d444f614b33b626e219173a80ac",
      "placeholder": "​",
      "style": "IPY_MODEL_5933ffd55cb44b099229abf74747eeb2",
      "value": "Dl Size...: 100%"
     }
    },
    "63a8cf5958a044bead48e4285f3ee1f7": {
     "model_module": "@jupyter-widgets/base",
     "model_module_version": "1.2.0",
     "model_name": "LayoutModel",
     "state": {
      "_model_module": "@jupyter-widgets/base",
      "_model_module_version": "1.2.0",
      "_model_name": "LayoutModel",
      "_view_count": null,
      "_view_module": "@jupyter-widgets/base",
      "_view_module_version": "1.2.0",
      "_view_name": "LayoutView",
      "align_content": null,
      "align_items": null,
      "align_self": null,
      "border": null,
      "bottom": null,
      "display": null,
      "flex": null,
      "flex_flow": null,
      "grid_area": null,
      "grid_auto_columns": null,
      "grid_auto_flow": null,
      "grid_auto_rows": null,
      "grid_column": null,
      "grid_gap": null,
      "grid_row": null,
      "grid_template_areas": null,
      "grid_template_columns": null,
      "grid_template_rows": null,
      "height": null,
      "justify_content": null,
      "justify_items": null,
      "left": null,
      "margin": null,
      "max_height": null,
      "max_width": null,
      "min_height": null,
      "min_width": null,
      "object_fit": null,
      "object_position": null,
      "order": null,
      "overflow": null,
      "overflow_x": null,
      "overflow_y": null,
      "padding": null,
      "right": null,
      "top": null,
      "visibility": "hidden",
      "width": null
     }
    },
    "67b7894ff8b84aa3b73e81ae26c748aa": {
     "model_module": "@jupyter-widgets/controls",
     "model_module_version": "1.5.0",
     "model_name": "HTMLModel",
     "state": {
      "_dom_classes": [],
      "_model_module": "@jupyter-widgets/controls",
      "_model_module_version": "1.5.0",
      "_model_name": "HTMLModel",
      "_view_count": null,
      "_view_module": "@jupyter-widgets/controls",
      "_view_module_version": "1.5.0",
      "_view_name": "HTMLView",
      "description": "",
      "description_tooltip": null,
      "layout": "IPY_MODEL_8219d6a12ca14f28826ced3ade470d0a",
      "placeholder": "​",
      "style": "IPY_MODEL_16be28ff98324d6e97037df204577d3e",
      "value": "Extraction completed...: 100%"
     }
    },
    "691d53886f2448688826dbf35ac596f5": {
     "model_module": "@jupyter-widgets/controls",
     "model_module_version": "1.5.0",
     "model_name": "DescriptionStyleModel",
     "state": {
      "_model_module": "@jupyter-widgets/controls",
      "_model_module_version": "1.5.0",
      "_model_name": "DescriptionStyleModel",
      "_view_count": null,
      "_view_module": "@jupyter-widgets/base",
      "_view_module_version": "1.2.0",
      "_view_name": "StyleView",
      "description_width": ""
     }
    },
    "72a99f6fafd64948bacbb9a3703c9c1e": {
     "model_module": "@jupyter-widgets/controls",
     "model_module_version": "1.5.0",
     "model_name": "DescriptionStyleModel",
     "state": {
      "_model_module": "@jupyter-widgets/controls",
      "_model_module_version": "1.5.0",
      "_model_name": "DescriptionStyleModel",
      "_view_count": null,
      "_view_module": "@jupyter-widgets/base",
      "_view_module_version": "1.2.0",
      "_view_name": "StyleView",
      "description_width": ""
     }
    },
    "75f864b8677e4d24b4b0e0630dcd3fcf": {
     "model_module": "@jupyter-widgets/controls",
     "model_module_version": "1.5.0",
     "model_name": "DescriptionStyleModel",
     "state": {
      "_model_module": "@jupyter-widgets/controls",
      "_model_module_version": "1.5.0",
      "_model_name": "DescriptionStyleModel",
      "_view_count": null,
      "_view_module": "@jupyter-widgets/base",
      "_view_module_version": "1.2.0",
      "_view_name": "StyleView",
      "description_width": ""
     }
    },
    "797eebbe1cad4273b0832b0143537181": {
     "model_module": "@jupyter-widgets/controls",
     "model_module_version": "1.5.0",
     "model_name": "FloatProgressModel",
     "state": {
      "_dom_classes": [],
      "_model_module": "@jupyter-widgets/controls",
      "_model_module_version": "1.5.0",
      "_model_name": "FloatProgressModel",
      "_view_count": null,
      "_view_module": "@jupyter-widgets/controls",
      "_view_module_version": "1.5.0",
      "_view_name": "ProgressView",
      "bar_style": "",
      "description": "",
      "description_tooltip": null,
      "layout": "IPY_MODEL_be3d1acfd95e43d7ade3ae392771e3a6",
      "max": 51785,
      "min": 0,
      "orientation": "horizontal",
      "style": "IPY_MODEL_46fdaceeebcc4e178a883e346a756bed",
      "value": 51785
     }
    },
    "79a77ec05e3f42878fcf8a7af21af4a2": {
     "model_module": "@jupyter-widgets/controls",
     "model_module_version": "1.5.0",
     "model_name": "HTMLModel",
     "state": {
      "_dom_classes": [],
      "_model_module": "@jupyter-widgets/controls",
      "_model_module_version": "1.5.0",
      "_model_name": "HTMLModel",
      "_view_count": null,
      "_view_module": "@jupyter-widgets/controls",
      "_view_module_version": "1.5.0",
      "_view_name": "HTMLView",
      "description": "",
      "description_tooltip": null,
      "layout": "IPY_MODEL_acd4b830293a451a8164e5a88b2b33a8",
      "placeholder": "​",
      "style": "IPY_MODEL_e12f77e00b9b4781969575d5b3f74702",
      "value": "Generating splits...: 100%"
     }
    },
    "7adbfddd5a9943dc8d68c1e48bb50230": {
     "model_module": "@jupyter-widgets/controls",
     "model_module_version": "1.5.0",
     "model_name": "FloatProgressModel",
     "state": {
      "_dom_classes": [],
      "_model_module": "@jupyter-widgets/controls",
      "_model_module_version": "1.5.0",
      "_model_name": "FloatProgressModel",
      "_view_count": null,
      "_view_module": "@jupyter-widgets/controls",
      "_view_module_version": "1.5.0",
      "_view_name": "ProgressView",
      "bar_style": "",
      "description": "",
      "description_tooltip": null,
      "layout": "IPY_MODEL_f1c027f627494c5a94773a74082f38b6",
      "max": 1193,
      "min": 0,
      "orientation": "horizontal",
      "style": "IPY_MODEL_6081512982a64e2d9d67b509803ce947",
      "value": 1193
     }
    },
    "8219d6a12ca14f28826ced3ade470d0a": {
     "model_module": "@jupyter-widgets/base",
     "model_module_version": "1.2.0",
     "model_name": "LayoutModel",
     "state": {
      "_model_module": "@jupyter-widgets/base",
      "_model_module_version": "1.2.0",
      "_model_name": "LayoutModel",
      "_view_count": null,
      "_view_module": "@jupyter-widgets/base",
      "_view_module_version": "1.2.0",
      "_view_name": "LayoutView",
      "align_content": null,
      "align_items": null,
      "align_self": null,
      "border": null,
      "bottom": null,
      "display": null,
      "flex": null,
      "flex_flow": null,
      "grid_area": null,
      "grid_auto_columns": null,
      "grid_auto_flow": null,
      "grid_auto_rows": null,
      "grid_column": null,
      "grid_gap": null,
      "grid_row": null,
      "grid_template_areas": null,
      "grid_template_columns": null,
      "grid_template_rows": null,
      "height": null,
      "justify_content": null,
      "justify_items": null,
      "left": null,
      "margin": null,
      "max_height": null,
      "max_width": null,
      "min_height": null,
      "min_width": null,
      "object_fit": null,
      "object_position": null,
      "order": null,
      "overflow": null,
      "overflow_x": null,
      "overflow_y": null,
      "padding": null,
      "right": null,
      "top": null,
      "visibility": null,
      "width": null
     }
    },
    "85071a00cbab4cee883b61d9c1198f57": {
     "model_module": "@jupyter-widgets/controls",
     "model_module_version": "1.5.0",
     "model_name": "HTMLModel",
     "state": {
      "_dom_classes": [],
      "_model_module": "@jupyter-widgets/controls",
      "_model_module_version": "1.5.0",
      "_model_name": "HTMLModel",
      "_view_count": null,
      "_view_module": "@jupyter-widgets/controls",
      "_view_module_version": "1.5.0",
      "_view_name": "HTMLView",
      "description": "",
      "description_tooltip": null,
      "layout": "IPY_MODEL_ffc83e58b48a45168b6e2282cf860fed",
      "placeholder": "​",
      "style": "IPY_MODEL_e1a0e78a56024b04bc03f184efba1830",
      "value": "Generating validation examples...:  55%"
     }
    },
    "883d9cb643634b328104a8463889bd02": {
     "model_module": "@jupyter-widgets/controls",
     "model_module_version": "1.5.0",
     "model_name": "HTMLModel",
     "state": {
      "_dom_classes": [],
      "_model_module": "@jupyter-widgets/controls",
      "_model_module_version": "1.5.0",
      "_model_name": "HTMLModel",
      "_view_count": null,
      "_view_module": "@jupyter-widgets/controls",
      "_view_module_version": "1.5.0",
      "_view_name": "HTMLView",
      "description": "",
      "description_tooltip": null,
      "layout": "IPY_MODEL_130f313d29864b67bbf18cb6f299ffaa",
      "placeholder": "​",
      "style": "IPY_MODEL_17ee5016220f49358f567061d7df4ee3",
      "value": " 1241/1803 [00:00&lt;00:00, 6718.59 examples/s]"
     }
    },
    "88b19fea8db84a02a5c04f6bea1ace97": {
     "model_module": "@jupyter-widgets/controls",
     "model_module_version": "1.5.0",
     "model_name": "HTMLModel",
     "state": {
      "_dom_classes": [],
      "_model_module": "@jupyter-widgets/controls",
      "_model_module_version": "1.5.0",
      "_model_name": "HTMLModel",
      "_view_count": null,
      "_view_module": "@jupyter-widgets/controls",
      "_view_module_version": "1.5.0",
      "_view_name": "HTMLView",
      "description": "",
      "description_tooltip": null,
      "layout": "IPY_MODEL_22ca1bb76f7e4bb9b71828f81145dac7",
      "placeholder": "​",
      "style": "IPY_MODEL_979382ee04be4eefa07be9c2f69e7dab",
      "value": "Dl Completed...: 100%"
     }
    },
    "8a5ae9bcead64e6e8a3714376aefb88c": {
     "model_module": "@jupyter-widgets/controls",
     "model_module_version": "1.5.0",
     "model_name": "ProgressStyleModel",
     "state": {
      "_model_module": "@jupyter-widgets/controls",
      "_model_module_version": "1.5.0",
      "_model_name": "ProgressStyleModel",
      "_view_count": null,
      "_view_module": "@jupyter-widgets/base",
      "_view_module_version": "1.2.0",
      "_view_name": "StyleView",
      "bar_color": null,
      "description_width": ""
     }
    },
    "8a75213c29a1406cb001c7bc3efdb282": {
     "model_module": "@jupyter-widgets/base",
     "model_module_version": "1.2.0",
     "model_name": "LayoutModel",
     "state": {
      "_model_module": "@jupyter-widgets/base",
      "_model_module_version": "1.2.0",
      "_model_name": "LayoutModel",
      "_view_count": null,
      "_view_module": "@jupyter-widgets/base",
      "_view_module_version": "1.2.0",
      "_view_name": "LayoutView",
      "align_content": null,
      "align_items": null,
      "align_self": null,
      "border": null,
      "bottom": null,
      "display": null,
      "flex": null,
      "flex_flow": null,
      "grid_area": null,
      "grid_auto_columns": null,
      "grid_auto_flow": null,
      "grid_auto_rows": null,
      "grid_column": null,
      "grid_gap": null,
      "grid_row": null,
      "grid_template_areas": null,
      "grid_template_columns": null,
      "grid_template_rows": null,
      "height": null,
      "justify_content": null,
      "justify_items": null,
      "left": null,
      "margin": null,
      "max_height": null,
      "max_width": null,
      "min_height": null,
      "min_width": null,
      "object_fit": null,
      "object_position": null,
      "order": null,
      "overflow": null,
      "overflow_x": null,
      "overflow_y": null,
      "padding": null,
      "right": null,
      "top": null,
      "visibility": null,
      "width": null
     }
    },
    "8dc8a4e57b7c476ebc1dbd95cea89c3e": {
     "model_module": "@jupyter-widgets/controls",
     "model_module_version": "1.5.0",
     "model_name": "FloatProgressModel",
     "state": {
      "_dom_classes": [],
      "_model_module": "@jupyter-widgets/controls",
      "_model_module_version": "1.5.0",
      "_model_name": "FloatProgressModel",
      "_view_count": null,
      "_view_module": "@jupyter-widgets/controls",
      "_view_module_version": "1.5.0",
      "_view_name": "ProgressView",
      "bar_style": "success",
      "description": "",
      "description_tooltip": null,
      "layout": "IPY_MODEL_b758b7f4df364046bbcc734ade99ad36",
      "max": 1,
      "min": 0,
      "orientation": "horizontal",
      "style": "IPY_MODEL_d7070ce330af4e64ae769967cb3c9717",
      "value": 1
     }
    },
    "92d71f30e2ef466b88619715bb0a2454": {
     "model_module": "@jupyter-widgets/base",
     "model_module_version": "1.2.0",
     "model_name": "LayoutModel",
     "state": {
      "_model_module": "@jupyter-widgets/base",
      "_model_module_version": "1.2.0",
      "_model_name": "LayoutModel",
      "_view_count": null,
      "_view_module": "@jupyter-widgets/base",
      "_view_module_version": "1.2.0",
      "_view_name": "LayoutView",
      "align_content": null,
      "align_items": null,
      "align_self": null,
      "border": null,
      "bottom": null,
      "display": null,
      "flex": null,
      "flex_flow": null,
      "grid_area": null,
      "grid_auto_columns": null,
      "grid_auto_flow": null,
      "grid_auto_rows": null,
      "grid_column": null,
      "grid_gap": null,
      "grid_row": null,
      "grid_template_areas": null,
      "grid_template_columns": null,
      "grid_template_rows": null,
      "height": null,
      "justify_content": null,
      "justify_items": null,
      "left": null,
      "margin": null,
      "max_height": null,
      "max_width": null,
      "min_height": null,
      "min_width": null,
      "object_fit": null,
      "object_position": null,
      "order": null,
      "overflow": null,
      "overflow_x": null,
      "overflow_y": null,
      "padding": null,
      "right": null,
      "top": null,
      "visibility": null,
      "width": null
     }
    },
    "93652628979f4336960935565b3fdacf": {
     "model_module": "@jupyter-widgets/controls",
     "model_module_version": "1.5.0",
     "model_name": "DescriptionStyleModel",
     "state": {
      "_model_module": "@jupyter-widgets/controls",
      "_model_module_version": "1.5.0",
      "_model_name": "DescriptionStyleModel",
      "_view_count": null,
      "_view_module": "@jupyter-widgets/base",
      "_view_module_version": "1.2.0",
      "_view_name": "StyleView",
      "description_width": ""
     }
    },
    "93f9ccfd248d4d4ead92d892e19d5c70": {
     "model_module": "@jupyter-widgets/base",
     "model_module_version": "1.2.0",
     "model_name": "LayoutModel",
     "state": {
      "_model_module": "@jupyter-widgets/base",
      "_model_module_version": "1.2.0",
      "_model_name": "LayoutModel",
      "_view_count": null,
      "_view_module": "@jupyter-widgets/base",
      "_view_module_version": "1.2.0",
      "_view_name": "LayoutView",
      "align_content": null,
      "align_items": null,
      "align_self": null,
      "border": null,
      "bottom": null,
      "display": null,
      "flex": null,
      "flex_flow": null,
      "grid_area": null,
      "grid_auto_columns": null,
      "grid_auto_flow": null,
      "grid_auto_rows": null,
      "grid_column": null,
      "grid_gap": null,
      "grid_row": null,
      "grid_template_areas": null,
      "grid_template_columns": null,
      "grid_template_rows": null,
      "height": null,
      "justify_content": null,
      "justify_items": null,
      "left": null,
      "margin": null,
      "max_height": null,
      "max_width": null,
      "min_height": null,
      "min_width": null,
      "object_fit": null,
      "object_position": null,
      "order": null,
      "overflow": null,
      "overflow_x": null,
      "overflow_y": null,
      "padding": null,
      "right": null,
      "top": null,
      "visibility": null,
      "width": null
     }
    },
    "945b081e3b634f2884ec314100809ead": {
     "model_module": "@jupyter-widgets/controls",
     "model_module_version": "1.5.0",
     "model_name": "ProgressStyleModel",
     "state": {
      "_model_module": "@jupyter-widgets/controls",
      "_model_module_version": "1.5.0",
      "_model_name": "ProgressStyleModel",
      "_view_count": null,
      "_view_module": "@jupyter-widgets/base",
      "_view_module_version": "1.2.0",
      "_view_name": "StyleView",
      "bar_color": null,
      "description_width": ""
     }
    },
    "979382ee04be4eefa07be9c2f69e7dab": {
     "model_module": "@jupyter-widgets/controls",
     "model_module_version": "1.5.0",
     "model_name": "DescriptionStyleModel",
     "state": {
      "_model_module": "@jupyter-widgets/controls",
      "_model_module_version": "1.5.0",
      "_model_name": "DescriptionStyleModel",
      "_view_count": null,
      "_view_module": "@jupyter-widgets/base",
      "_view_module_version": "1.2.0",
      "_view_name": "StyleView",
      "description_width": ""
     }
    },
    "9a760bc064c6450298510ead00c620ca": {
     "model_module": "@jupyter-widgets/base",
     "model_module_version": "1.2.0",
     "model_name": "LayoutModel",
     "state": {
      "_model_module": "@jupyter-widgets/base",
      "_model_module_version": "1.2.0",
      "_model_name": "LayoutModel",
      "_view_count": null,
      "_view_module": "@jupyter-widgets/base",
      "_view_module_version": "1.2.0",
      "_view_name": "LayoutView",
      "align_content": null,
      "align_items": null,
      "align_self": null,
      "border": null,
      "bottom": null,
      "display": null,
      "flex": null,
      "flex_flow": null,
      "grid_area": null,
      "grid_auto_columns": null,
      "grid_auto_flow": null,
      "grid_auto_rows": null,
      "grid_column": null,
      "grid_gap": null,
      "grid_row": null,
      "grid_template_areas": null,
      "grid_template_columns": null,
      "grid_template_rows": null,
      "height": null,
      "justify_content": null,
      "justify_items": null,
      "left": null,
      "margin": null,
      "max_height": null,
      "max_width": null,
      "min_height": null,
      "min_width": null,
      "object_fit": null,
      "object_position": null,
      "order": null,
      "overflow": null,
      "overflow_x": null,
      "overflow_y": null,
      "padding": null,
      "right": null,
      "top": null,
      "visibility": null,
      "width": null
     }
    },
    "9b3c38f276d145cda7a3a13f372dc348": {
     "model_module": "@jupyter-widgets/controls",
     "model_module_version": "1.5.0",
     "model_name": "ProgressStyleModel",
     "state": {
      "_model_module": "@jupyter-widgets/controls",
      "_model_module_version": "1.5.0",
      "_model_name": "ProgressStyleModel",
      "_view_count": null,
      "_view_module": "@jupyter-widgets/base",
      "_view_module_version": "1.2.0",
      "_view_name": "StyleView",
      "bar_color": null,
      "description_width": ""
     }
    },
    "9eb37f0604c94603b910f3146ee6e123": {
     "model_module": "@jupyter-widgets/controls",
     "model_module_version": "1.5.0",
     "model_name": "FloatProgressModel",
     "state": {
      "_dom_classes": [],
      "_model_module": "@jupyter-widgets/controls",
      "_model_module_version": "1.5.0",
      "_model_name": "FloatProgressModel",
      "_view_count": null,
      "_view_module": "@jupyter-widgets/controls",
      "_view_module_version": "1.5.0",
      "_view_name": "ProgressView",
      "bar_style": "",
      "description": "",
      "description_tooltip": null,
      "layout": "IPY_MODEL_adc007ecfadf49439fd7c220056c9058",
      "max": 3,
      "min": 0,
      "orientation": "horizontal",
      "style": "IPY_MODEL_dbee2cec3df94a90a3f63923be0097a8",
      "value": 3
     }
    },
    "9ebe47f722f84d418db062b5aa24431c": {
     "model_module": "@jupyter-widgets/base",
     "model_module_version": "1.2.0",
     "model_name": "LayoutModel",
     "state": {
      "_model_module": "@jupyter-widgets/base",
      "_model_module_version": "1.2.0",
      "_model_name": "LayoutModel",
      "_view_count": null,
      "_view_module": "@jupyter-widgets/base",
      "_view_module_version": "1.2.0",
      "_view_name": "LayoutView",
      "align_content": null,
      "align_items": null,
      "align_self": null,
      "border": null,
      "bottom": null,
      "display": null,
      "flex": null,
      "flex_flow": null,
      "grid_area": null,
      "grid_auto_columns": null,
      "grid_auto_flow": null,
      "grid_auto_rows": null,
      "grid_column": null,
      "grid_gap": null,
      "grid_row": null,
      "grid_template_areas": null,
      "grid_template_columns": null,
      "grid_template_rows": null,
      "height": null,
      "justify_content": null,
      "justify_items": null,
      "left": null,
      "margin": null,
      "max_height": null,
      "max_width": null,
      "min_height": null,
      "min_width": null,
      "object_fit": null,
      "object_position": null,
      "order": null,
      "overflow": null,
      "overflow_x": null,
      "overflow_y": null,
      "padding": null,
      "right": null,
      "top": null,
      "visibility": "hidden",
      "width": null
     }
    },
    "a277f3174ba84b9395654b614f8a4a0d": {
     "model_module": "@jupyter-widgets/controls",
     "model_module_version": "1.5.0",
     "model_name": "ProgressStyleModel",
     "state": {
      "_model_module": "@jupyter-widgets/controls",
      "_model_module_version": "1.5.0",
      "_model_name": "ProgressStyleModel",
      "_view_count": null,
      "_view_module": "@jupyter-widgets/base",
      "_view_module_version": "1.2.0",
      "_view_name": "StyleView",
      "bar_color": null,
      "description_width": ""
     }
    },
    "a3c774ef3f9743938603c9ef1699fb6f": {
     "model_module": "@jupyter-widgets/base",
     "model_module_version": "1.2.0",
     "model_name": "LayoutModel",
     "state": {
      "_model_module": "@jupyter-widgets/base",
      "_model_module_version": "1.2.0",
      "_model_name": "LayoutModel",
      "_view_count": null,
      "_view_module": "@jupyter-widgets/base",
      "_view_module_version": "1.2.0",
      "_view_name": "LayoutView",
      "align_content": null,
      "align_items": null,
      "align_self": null,
      "border": null,
      "bottom": null,
      "display": null,
      "flex": null,
      "flex_flow": null,
      "grid_area": null,
      "grid_auto_columns": null,
      "grid_auto_flow": null,
      "grid_auto_rows": null,
      "grid_column": null,
      "grid_gap": null,
      "grid_row": null,
      "grid_template_areas": null,
      "grid_template_columns": null,
      "grid_template_rows": null,
      "height": null,
      "justify_content": null,
      "justify_items": null,
      "left": null,
      "margin": null,
      "max_height": null,
      "max_width": null,
      "min_height": null,
      "min_width": null,
      "object_fit": null,
      "object_position": null,
      "order": null,
      "overflow": null,
      "overflow_x": null,
      "overflow_y": null,
      "padding": null,
      "right": null,
      "top": null,
      "visibility": null,
      "width": null
     }
    },
    "a3eece0fb1604673a52f0a0f39a962ca": {
     "model_module": "@jupyter-widgets/controls",
     "model_module_version": "1.5.0",
     "model_name": "DescriptionStyleModel",
     "state": {
      "_model_module": "@jupyter-widgets/controls",
      "_model_module_version": "1.5.0",
      "_model_name": "DescriptionStyleModel",
      "_view_count": null,
      "_view_module": "@jupyter-widgets/base",
      "_view_module_version": "1.2.0",
      "_view_name": "StyleView",
      "description_width": ""
     }
    },
    "a4c97b9f60654b43ad576dfedaf70aeb": {
     "model_module": "@jupyter-widgets/controls",
     "model_module_version": "1.5.0",
     "model_name": "DescriptionStyleModel",
     "state": {
      "_model_module": "@jupyter-widgets/controls",
      "_model_module_version": "1.5.0",
      "_model_name": "DescriptionStyleModel",
      "_view_count": null,
      "_view_module": "@jupyter-widgets/base",
      "_view_module_version": "1.2.0",
      "_view_name": "StyleView",
      "description_width": ""
     }
    },
    "a5257b3f846a4faa9416b4711adfc19d": {
     "model_module": "@jupyter-widgets/controls",
     "model_module_version": "1.5.0",
     "model_name": "HBoxModel",
     "state": {
      "_dom_classes": [],
      "_model_module": "@jupyter-widgets/controls",
      "_model_module_version": "1.5.0",
      "_model_name": "HBoxModel",
      "_view_count": null,
      "_view_module": "@jupyter-widgets/controls",
      "_view_module_version": "1.5.0",
      "_view_name": "HBoxView",
      "box_style": "",
      "children": [
       "IPY_MODEL_85071a00cbab4cee883b61d9c1198f57",
       "IPY_MODEL_f72868e8b4714b84b2e0eeb3991048dc",
       "IPY_MODEL_d5686912d90044f9934cb9ab5cf9567b"
      ],
      "layout": "IPY_MODEL_63a8cf5958a044bead48e4285f3ee1f7"
     }
    },
    "a9aedf5e961945c985afc9af60eafa03": {
     "model_module": "@jupyter-widgets/base",
     "model_module_version": "1.2.0",
     "model_name": "LayoutModel",
     "state": {
      "_model_module": "@jupyter-widgets/base",
      "_model_module_version": "1.2.0",
      "_model_name": "LayoutModel",
      "_view_count": null,
      "_view_module": "@jupyter-widgets/base",
      "_view_module_version": "1.2.0",
      "_view_name": "LayoutView",
      "align_content": null,
      "align_items": null,
      "align_self": null,
      "border": null,
      "bottom": null,
      "display": null,
      "flex": null,
      "flex_flow": null,
      "grid_area": null,
      "grid_auto_columns": null,
      "grid_auto_flow": null,
      "grid_auto_rows": null,
      "grid_column": null,
      "grid_gap": null,
      "grid_row": null,
      "grid_template_areas": null,
      "grid_template_columns": null,
      "grid_template_rows": null,
      "height": null,
      "justify_content": null,
      "justify_items": null,
      "left": null,
      "margin": null,
      "max_height": null,
      "max_width": null,
      "min_height": null,
      "min_width": null,
      "object_fit": null,
      "object_position": null,
      "order": null,
      "overflow": null,
      "overflow_x": null,
      "overflow_y": null,
      "padding": null,
      "right": null,
      "top": null,
      "visibility": null,
      "width": null
     }
    },
    "ab1c9ef7d16742a7801f93eb1a2c74ef": {
     "model_module": "@jupyter-widgets/controls",
     "model_module_version": "1.5.0",
     "model_name": "FloatProgressModel",
     "state": {
      "_dom_classes": [],
      "_model_module": "@jupyter-widgets/controls",
      "_model_module_version": "1.5.0",
      "_model_name": "FloatProgressModel",
      "_view_count": null,
      "_view_module": "@jupyter-widgets/controls",
      "_view_module_version": "1.5.0",
      "_view_name": "ProgressView",
      "bar_style": "success",
      "description": "",
      "description_tooltip": null,
      "layout": "IPY_MODEL_b3a15c916ac5489b87be1d9b62776beb",
      "max": 1,
      "min": 0,
      "orientation": "horizontal",
      "style": "IPY_MODEL_945b081e3b634f2884ec314100809ead",
      "value": 1
     }
    },
    "ab48d7aabf6749e0ae2bd3246a63dc51": {
     "model_module": "@jupyter-widgets/base",
     "model_module_version": "1.2.0",
     "model_name": "LayoutModel",
     "state": {
      "_model_module": "@jupyter-widgets/base",
      "_model_module_version": "1.2.0",
      "_model_name": "LayoutModel",
      "_view_count": null,
      "_view_module": "@jupyter-widgets/base",
      "_view_module_version": "1.2.0",
      "_view_name": "LayoutView",
      "align_content": null,
      "align_items": null,
      "align_self": null,
      "border": null,
      "bottom": null,
      "display": null,
      "flex": null,
      "flex_flow": null,
      "grid_area": null,
      "grid_auto_columns": null,
      "grid_auto_flow": null,
      "grid_auto_rows": null,
      "grid_column": null,
      "grid_gap": null,
      "grid_row": null,
      "grid_template_areas": null,
      "grid_template_columns": null,
      "grid_template_rows": null,
      "height": null,
      "justify_content": null,
      "justify_items": null,
      "left": null,
      "margin": null,
      "max_height": null,
      "max_width": null,
      "min_height": null,
      "min_width": null,
      "object_fit": null,
      "object_position": null,
      "order": null,
      "overflow": null,
      "overflow_x": null,
      "overflow_y": null,
      "padding": null,
      "right": null,
      "top": null,
      "visibility": null,
      "width": null
     }
    },
    "acd4b830293a451a8164e5a88b2b33a8": {
     "model_module": "@jupyter-widgets/base",
     "model_module_version": "1.2.0",
     "model_name": "LayoutModel",
     "state": {
      "_model_module": "@jupyter-widgets/base",
      "_model_module_version": "1.2.0",
      "_model_name": "LayoutModel",
      "_view_count": null,
      "_view_module": "@jupyter-widgets/base",
      "_view_module_version": "1.2.0",
      "_view_name": "LayoutView",
      "align_content": null,
      "align_items": null,
      "align_self": null,
      "border": null,
      "bottom": null,
      "display": null,
      "flex": null,
      "flex_flow": null,
      "grid_area": null,
      "grid_auto_columns": null,
      "grid_auto_flow": null,
      "grid_auto_rows": null,
      "grid_column": null,
      "grid_gap": null,
      "grid_row": null,
      "grid_template_areas": null,
      "grid_template_columns": null,
      "grid_template_rows": null,
      "height": null,
      "justify_content": null,
      "justify_items": null,
      "left": null,
      "margin": null,
      "max_height": null,
      "max_width": null,
      "min_height": null,
      "min_width": null,
      "object_fit": null,
      "object_position": null,
      "order": null,
      "overflow": null,
      "overflow_x": null,
      "overflow_y": null,
      "padding": null,
      "right": null,
      "top": null,
      "visibility": null,
      "width": null
     }
    },
    "adc007ecfadf49439fd7c220056c9058": {
     "model_module": "@jupyter-widgets/base",
     "model_module_version": "1.2.0",
     "model_name": "LayoutModel",
     "state": {
      "_model_module": "@jupyter-widgets/base",
      "_model_module_version": "1.2.0",
      "_model_name": "LayoutModel",
      "_view_count": null,
      "_view_module": "@jupyter-widgets/base",
      "_view_module_version": "1.2.0",
      "_view_name": "LayoutView",
      "align_content": null,
      "align_items": null,
      "align_self": null,
      "border": null,
      "bottom": null,
      "display": null,
      "flex": null,
      "flex_flow": null,
      "grid_area": null,
      "grid_auto_columns": null,
      "grid_auto_flow": null,
      "grid_auto_rows": null,
      "grid_column": null,
      "grid_gap": null,
      "grid_row": null,
      "grid_template_areas": null,
      "grid_template_columns": null,
      "grid_template_rows": null,
      "height": null,
      "justify_content": null,
      "justify_items": null,
      "left": null,
      "margin": null,
      "max_height": null,
      "max_width": null,
      "min_height": null,
      "min_width": null,
      "object_fit": null,
      "object_position": null,
      "order": null,
      "overflow": null,
      "overflow_x": null,
      "overflow_y": null,
      "padding": null,
      "right": null,
      "top": null,
      "visibility": null,
      "width": null
     }
    },
    "b3a15c916ac5489b87be1d9b62776beb": {
     "model_module": "@jupyter-widgets/base",
     "model_module_version": "1.2.0",
     "model_name": "LayoutModel",
     "state": {
      "_model_module": "@jupyter-widgets/base",
      "_model_module_version": "1.2.0",
      "_model_name": "LayoutModel",
      "_view_count": null,
      "_view_module": "@jupyter-widgets/base",
      "_view_module_version": "1.2.0",
      "_view_name": "LayoutView",
      "align_content": null,
      "align_items": null,
      "align_self": null,
      "border": null,
      "bottom": null,
      "display": null,
      "flex": null,
      "flex_flow": null,
      "grid_area": null,
      "grid_auto_columns": null,
      "grid_auto_flow": null,
      "grid_auto_rows": null,
      "grid_column": null,
      "grid_gap": null,
      "grid_row": null,
      "grid_template_areas": null,
      "grid_template_columns": null,
      "grid_template_rows": null,
      "height": null,
      "justify_content": null,
      "justify_items": null,
      "left": null,
      "margin": null,
      "max_height": null,
      "max_width": null,
      "min_height": null,
      "min_width": null,
      "object_fit": null,
      "object_position": null,
      "order": null,
      "overflow": null,
      "overflow_x": null,
      "overflow_y": null,
      "padding": null,
      "right": null,
      "top": null,
      "visibility": null,
      "width": "20px"
     }
    },
    "b758b7f4df364046bbcc734ade99ad36": {
     "model_module": "@jupyter-widgets/base",
     "model_module_version": "1.2.0",
     "model_name": "LayoutModel",
     "state": {
      "_model_module": "@jupyter-widgets/base",
      "_model_module_version": "1.2.0",
      "_model_name": "LayoutModel",
      "_view_count": null,
      "_view_module": "@jupyter-widgets/base",
      "_view_module_version": "1.2.0",
      "_view_name": "LayoutView",
      "align_content": null,
      "align_items": null,
      "align_self": null,
      "border": null,
      "bottom": null,
      "display": null,
      "flex": null,
      "flex_flow": null,
      "grid_area": null,
      "grid_auto_columns": null,
      "grid_auto_flow": null,
      "grid_auto_rows": null,
      "grid_column": null,
      "grid_gap": null,
      "grid_row": null,
      "grid_template_areas": null,
      "grid_template_columns": null,
      "grid_template_rows": null,
      "height": null,
      "justify_content": null,
      "justify_items": null,
      "left": null,
      "margin": null,
      "max_height": null,
      "max_width": null,
      "min_height": null,
      "min_width": null,
      "object_fit": null,
      "object_position": null,
      "order": null,
      "overflow": null,
      "overflow_x": null,
      "overflow_y": null,
      "padding": null,
      "right": null,
      "top": null,
      "visibility": null,
      "width": "20px"
     }
    },
    "b91339c5ec58462b90f62eebcb3b0d14": {
     "model_module": "@jupyter-widgets/base",
     "model_module_version": "1.2.0",
     "model_name": "LayoutModel",
     "state": {
      "_model_module": "@jupyter-widgets/base",
      "_model_module_version": "1.2.0",
      "_model_name": "LayoutModel",
      "_view_count": null,
      "_view_module": "@jupyter-widgets/base",
      "_view_module_version": "1.2.0",
      "_view_name": "LayoutView",
      "align_content": null,
      "align_items": null,
      "align_self": null,
      "border": null,
      "bottom": null,
      "display": null,
      "flex": null,
      "flex_flow": null,
      "grid_area": null,
      "grid_auto_columns": null,
      "grid_auto_flow": null,
      "grid_auto_rows": null,
      "grid_column": null,
      "grid_gap": null,
      "grid_row": null,
      "grid_template_areas": null,
      "grid_template_columns": null,
      "grid_template_rows": null,
      "height": null,
      "justify_content": null,
      "justify_items": null,
      "left": null,
      "margin": null,
      "max_height": null,
      "max_width": null,
      "min_height": null,
      "min_width": null,
      "object_fit": null,
      "object_position": null,
      "order": null,
      "overflow": null,
      "overflow_x": null,
      "overflow_y": null,
      "padding": null,
      "right": null,
      "top": null,
      "visibility": null,
      "width": null
     }
    },
    "b970563fc2184a028bbccdc47ba3b640": {
     "model_module": "@jupyter-widgets/base",
     "model_module_version": "1.2.0",
     "model_name": "LayoutModel",
     "state": {
      "_model_module": "@jupyter-widgets/base",
      "_model_module_version": "1.2.0",
      "_model_name": "LayoutModel",
      "_view_count": null,
      "_view_module": "@jupyter-widgets/base",
      "_view_module_version": "1.2.0",
      "_view_name": "LayoutView",
      "align_content": null,
      "align_items": null,
      "align_self": null,
      "border": null,
      "bottom": null,
      "display": null,
      "flex": null,
      "flex_flow": null,
      "grid_area": null,
      "grid_auto_columns": null,
      "grid_auto_flow": null,
      "grid_auto_rows": null,
      "grid_column": null,
      "grid_gap": null,
      "grid_row": null,
      "grid_template_areas": null,
      "grid_template_columns": null,
      "grid_template_rows": null,
      "height": null,
      "justify_content": null,
      "justify_items": null,
      "left": null,
      "margin": null,
      "max_height": null,
      "max_width": null,
      "min_height": null,
      "min_width": null,
      "object_fit": null,
      "object_position": null,
      "order": null,
      "overflow": null,
      "overflow_x": null,
      "overflow_y": null,
      "padding": null,
      "right": null,
      "top": null,
      "visibility": null,
      "width": null
     }
    },
    "baa70589d5124d77b974d988f5b4bb0a": {
     "model_module": "@jupyter-widgets/controls",
     "model_module_version": "1.5.0",
     "model_name": "DescriptionStyleModel",
     "state": {
      "_model_module": "@jupyter-widgets/controls",
      "_model_module_version": "1.5.0",
      "_model_name": "DescriptionStyleModel",
      "_view_count": null,
      "_view_module": "@jupyter-widgets/base",
      "_view_module_version": "1.2.0",
      "_view_name": "StyleView",
      "description_width": ""
     }
    },
    "be3d1acfd95e43d7ade3ae392771e3a6": {
     "model_module": "@jupyter-widgets/base",
     "model_module_version": "1.2.0",
     "model_name": "LayoutModel",
     "state": {
      "_model_module": "@jupyter-widgets/base",
      "_model_module_version": "1.2.0",
      "_model_name": "LayoutModel",
      "_view_count": null,
      "_view_module": "@jupyter-widgets/base",
      "_view_module_version": "1.2.0",
      "_view_name": "LayoutView",
      "align_content": null,
      "align_items": null,
      "align_self": null,
      "border": null,
      "bottom": null,
      "display": null,
      "flex": null,
      "flex_flow": null,
      "grid_area": null,
      "grid_auto_columns": null,
      "grid_auto_flow": null,
      "grid_auto_rows": null,
      "grid_column": null,
      "grid_gap": null,
      "grid_row": null,
      "grid_template_areas": null,
      "grid_template_columns": null,
      "grid_template_rows": null,
      "height": null,
      "justify_content": null,
      "justify_items": null,
      "left": null,
      "margin": null,
      "max_height": null,
      "max_width": null,
      "min_height": null,
      "min_width": null,
      "object_fit": null,
      "object_position": null,
      "order": null,
      "overflow": null,
      "overflow_x": null,
      "overflow_y": null,
      "padding": null,
      "right": null,
      "top": null,
      "visibility": null,
      "width": null
     }
    },
    "bf63465727e44fa69256d85880488380": {
     "model_module": "@jupyter-widgets/base",
     "model_module_version": "1.2.0",
     "model_name": "LayoutModel",
     "state": {
      "_model_module": "@jupyter-widgets/base",
      "_model_module_version": "1.2.0",
      "_model_name": "LayoutModel",
      "_view_count": null,
      "_view_module": "@jupyter-widgets/base",
      "_view_module_version": "1.2.0",
      "_view_name": "LayoutView",
      "align_content": null,
      "align_items": null,
      "align_self": null,
      "border": null,
      "bottom": null,
      "display": null,
      "flex": null,
      "flex_flow": null,
      "grid_area": null,
      "grid_auto_columns": null,
      "grid_auto_flow": null,
      "grid_auto_rows": null,
      "grid_column": null,
      "grid_gap": null,
      "grid_row": null,
      "grid_template_areas": null,
      "grid_template_columns": null,
      "grid_template_rows": null,
      "height": null,
      "justify_content": null,
      "justify_items": null,
      "left": null,
      "margin": null,
      "max_height": null,
      "max_width": null,
      "min_height": null,
      "min_width": null,
      "object_fit": null,
      "object_position": null,
      "order": null,
      "overflow": null,
      "overflow_x": null,
      "overflow_y": null,
      "padding": null,
      "right": null,
      "top": null,
      "visibility": null,
      "width": null
     }
    },
    "c1481b0a5d8843319581595e08519095": {
     "model_module": "@jupyter-widgets/controls",
     "model_module_version": "1.5.0",
     "model_name": "HBoxModel",
     "state": {
      "_dom_classes": [],
      "_model_module": "@jupyter-widgets/controls",
      "_model_module_version": "1.5.0",
      "_model_name": "HBoxModel",
      "_view_count": null,
      "_view_module": "@jupyter-widgets/controls",
      "_view_module_version": "1.5.0",
      "_view_name": "HBoxView",
      "box_style": "",
      "children": [
       "IPY_MODEL_6346f42b29e045019fd239f9048ff88d",
       "IPY_MODEL_c85d163d16cf4eddb7c27572308ccbf9",
       "IPY_MODEL_5ea16179b9274c8f93fb5042ad39d952"
      ],
      "layout": "IPY_MODEL_29bc0ba98d44465f9f969f36849f6b3c"
     }
    },
    "c19a3459894f46d78d382732b1928c65": {
     "model_module": "@jupyter-widgets/controls",
     "model_module_version": "1.5.0",
     "model_name": "HTMLModel",
     "state": {
      "_dom_classes": [],
      "_model_module": "@jupyter-widgets/controls",
      "_model_module_version": "1.5.0",
      "_model_name": "HTMLModel",
      "_view_count": null,
      "_view_module": "@jupyter-widgets/controls",
      "_view_module_version": "1.5.0",
      "_view_name": "HTMLView",
      "description": "",
      "description_tooltip": null,
      "layout": "IPY_MODEL_93f9ccfd248d4d4ead92d892e19d5c70",
      "placeholder": "​",
      "style": "IPY_MODEL_75f864b8677e4d24b4b0e0630dcd3fcf",
      "value": " 37175/51785 [00:00&lt;00:00, 215488.73 examples/s]"
     }
    },
    "c85d163d16cf4eddb7c27572308ccbf9": {
     "model_module": "@jupyter-widgets/controls",
     "model_module_version": "1.5.0",
     "model_name": "FloatProgressModel",
     "state": {
      "_dom_classes": [],
      "_model_module": "@jupyter-widgets/controls",
      "_model_module_version": "1.5.0",
      "_model_name": "FloatProgressModel",
      "_view_count": null,
      "_view_module": "@jupyter-widgets/controls",
      "_view_module_version": "1.5.0",
      "_view_name": "ProgressView",
      "bar_style": "success",
      "description": "",
      "description_tooltip": null,
      "layout": "IPY_MODEL_dcb202220dac46e487c4c2db7d2d2fbb",
      "max": 1,
      "min": 0,
      "orientation": "horizontal",
      "style": "IPY_MODEL_d3c1e2ab76f64982811721dbdee66ca8",
      "value": 1
     }
    },
    "d3c1e2ab76f64982811721dbdee66ca8": {
     "model_module": "@jupyter-widgets/controls",
     "model_module_version": "1.5.0",
     "model_name": "ProgressStyleModel",
     "state": {
      "_model_module": "@jupyter-widgets/controls",
      "_model_module_version": "1.5.0",
      "_model_name": "ProgressStyleModel",
      "_view_count": null,
      "_view_module": "@jupyter-widgets/base",
      "_view_module_version": "1.2.0",
      "_view_name": "StyleView",
      "bar_color": null,
      "description_width": ""
     }
    },
    "d5686912d90044f9934cb9ab5cf9567b": {
     "model_module": "@jupyter-widgets/controls",
     "model_module_version": "1.5.0",
     "model_name": "HTMLModel",
     "state": {
      "_dom_classes": [],
      "_model_module": "@jupyter-widgets/controls",
      "_model_module_version": "1.5.0",
      "_model_name": "HTMLModel",
      "_view_count": null,
      "_view_module": "@jupyter-widgets/controls",
      "_view_module_version": "1.5.0",
      "_view_name": "HTMLView",
      "description": "",
      "description_tooltip": null,
      "layout": "IPY_MODEL_4a57f76a9324414b9c0d2113ada93de5",
      "placeholder": "​",
      "style": "IPY_MODEL_baa70589d5124d77b974d988f5b4bb0a",
      "value": " 659/1193 [00:00&lt;00:00, 6584.89 examples/s]"
     }
    },
    "d7070ce330af4e64ae769967cb3c9717": {
     "model_module": "@jupyter-widgets/controls",
     "model_module_version": "1.5.0",
     "model_name": "ProgressStyleModel",
     "state": {
      "_model_module": "@jupyter-widgets/controls",
      "_model_module_version": "1.5.0",
      "_model_name": "ProgressStyleModel",
      "_view_count": null,
      "_view_module": "@jupyter-widgets/base",
      "_view_module_version": "1.2.0",
      "_view_name": "StyleView",
      "bar_color": null,
      "description_width": ""
     }
    },
    "dbee2cec3df94a90a3f63923be0097a8": {
     "model_module": "@jupyter-widgets/controls",
     "model_module_version": "1.5.0",
     "model_name": "ProgressStyleModel",
     "state": {
      "_model_module": "@jupyter-widgets/controls",
      "_model_module_version": "1.5.0",
      "_model_name": "ProgressStyleModel",
      "_view_count": null,
      "_view_module": "@jupyter-widgets/base",
      "_view_module_version": "1.2.0",
      "_view_name": "StyleView",
      "bar_color": null,
      "description_width": ""
     }
    },
    "dcb202220dac46e487c4c2db7d2d2fbb": {
     "model_module": "@jupyter-widgets/base",
     "model_module_version": "1.2.0",
     "model_name": "LayoutModel",
     "state": {
      "_model_module": "@jupyter-widgets/base",
      "_model_module_version": "1.2.0",
      "_model_name": "LayoutModel",
      "_view_count": null,
      "_view_module": "@jupyter-widgets/base",
      "_view_module_version": "1.2.0",
      "_view_name": "LayoutView",
      "align_content": null,
      "align_items": null,
      "align_self": null,
      "border": null,
      "bottom": null,
      "display": null,
      "flex": null,
      "flex_flow": null,
      "grid_area": null,
      "grid_auto_columns": null,
      "grid_auto_flow": null,
      "grid_auto_rows": null,
      "grid_column": null,
      "grid_gap": null,
      "grid_row": null,
      "grid_template_areas": null,
      "grid_template_columns": null,
      "grid_template_rows": null,
      "height": null,
      "justify_content": null,
      "justify_items": null,
      "left": null,
      "margin": null,
      "max_height": null,
      "max_width": null,
      "min_height": null,
      "min_width": null,
      "object_fit": null,
      "object_position": null,
      "order": null,
      "overflow": null,
      "overflow_x": null,
      "overflow_y": null,
      "padding": null,
      "right": null,
      "top": null,
      "visibility": null,
      "width": "20px"
     }
    },
    "e12f77e00b9b4781969575d5b3f74702": {
     "model_module": "@jupyter-widgets/controls",
     "model_module_version": "1.5.0",
     "model_name": "DescriptionStyleModel",
     "state": {
      "_model_module": "@jupyter-widgets/controls",
      "_model_module_version": "1.5.0",
      "_model_name": "DescriptionStyleModel",
      "_view_count": null,
      "_view_module": "@jupyter-widgets/base",
      "_view_module_version": "1.2.0",
      "_view_name": "StyleView",
      "description_width": ""
     }
    },
    "e1a0e78a56024b04bc03f184efba1830": {
     "model_module": "@jupyter-widgets/controls",
     "model_module_version": "1.5.0",
     "model_name": "DescriptionStyleModel",
     "state": {
      "_model_module": "@jupyter-widgets/controls",
      "_model_module_version": "1.5.0",
      "_model_name": "DescriptionStyleModel",
      "_view_count": null,
      "_view_module": "@jupyter-widgets/base",
      "_view_module_version": "1.2.0",
      "_view_name": "StyleView",
      "description_width": ""
     }
    },
    "e8c5e26c798d4fdcad89a10d7f893972": {
     "model_module": "@jupyter-widgets/controls",
     "model_module_version": "1.5.0",
     "model_name": "FloatProgressModel",
     "state": {
      "_dom_classes": [],
      "_model_module": "@jupyter-widgets/controls",
      "_model_module_version": "1.5.0",
      "_model_name": "FloatProgressModel",
      "_view_count": null,
      "_view_module": "@jupyter-widgets/controls",
      "_view_module_version": "1.5.0",
      "_view_name": "ProgressView",
      "bar_style": "",
      "description": "",
      "description_tooltip": null,
      "layout": "IPY_MODEL_ab48d7aabf6749e0ae2bd3246a63dc51",
      "max": 1803,
      "min": 0,
      "orientation": "horizontal",
      "style": "IPY_MODEL_1f509360e6e340e1a353ebf4a0e3a20d",
      "value": 1803
     }
    },
    "eb5cb69c4bdc4799b97b85b5a2310d88": {
     "model_module": "@jupyter-widgets/controls",
     "model_module_version": "1.5.0",
     "model_name": "HTMLModel",
     "state": {
      "_dom_classes": [],
      "_model_module": "@jupyter-widgets/controls",
      "_model_module_version": "1.5.0",
      "_model_name": "HTMLModel",
      "_view_count": null,
      "_view_module": "@jupyter-widgets/controls",
      "_view_module_version": "1.5.0",
      "_view_name": "HTMLView",
      "description": "",
      "description_tooltip": null,
      "layout": "IPY_MODEL_4ca64f8ce2784b89a6aeb634374e1f2c",
      "placeholder": "​",
      "style": "IPY_MODEL_93652628979f4336960935565b3fdacf",
      "value": " 0/1193 [00:00&lt;?, ? examples/s]"
     }
    },
    "ee43e7449e7b4f7787b29ea0c27a9be0": {
     "model_module": "@jupyter-widgets/controls",
     "model_module_version": "1.5.0",
     "model_name": "HBoxModel",
     "state": {
      "_dom_classes": [],
      "_model_module": "@jupyter-widgets/controls",
      "_model_module_version": "1.5.0",
      "_model_name": "HBoxModel",
      "_view_count": null,
      "_view_module": "@jupyter-widgets/controls",
      "_view_module_version": "1.5.0",
      "_view_name": "HBoxView",
      "box_style": "",
      "children": [
       "IPY_MODEL_3991a5366d13464ca69cf4b581049358",
       "IPY_MODEL_e8c5e26c798d4fdcad89a10d7f893972",
       "IPY_MODEL_883d9cb643634b328104a8463889bd02"
      ],
      "layout": "IPY_MODEL_9ebe47f722f84d418db062b5aa24431c"
     }
    },
    "eee1282cec3346e08386e4a2166bc47c": {
     "model_module": "@jupyter-widgets/base",
     "model_module_version": "1.2.0",
     "model_name": "LayoutModel",
     "state": {
      "_model_module": "@jupyter-widgets/base",
      "_model_module_version": "1.2.0",
      "_model_name": "LayoutModel",
      "_view_count": null,
      "_view_module": "@jupyter-widgets/base",
      "_view_module_version": "1.2.0",
      "_view_name": "LayoutView",
      "align_content": null,
      "align_items": null,
      "align_self": null,
      "border": null,
      "bottom": null,
      "display": null,
      "flex": null,
      "flex_flow": null,
      "grid_area": null,
      "grid_auto_columns": null,
      "grid_auto_flow": null,
      "grid_auto_rows": null,
      "grid_column": null,
      "grid_gap": null,
      "grid_row": null,
      "grid_template_areas": null,
      "grid_template_columns": null,
      "grid_template_rows": null,
      "height": null,
      "justify_content": null,
      "justify_items": null,
      "left": null,
      "margin": null,
      "max_height": null,
      "max_width": null,
      "min_height": null,
      "min_width": null,
      "object_fit": null,
      "object_position": null,
      "order": null,
      "overflow": null,
      "overflow_x": null,
      "overflow_y": null,
      "padding": null,
      "right": null,
      "top": null,
      "visibility": null,
      "width": null
     }
    },
    "f09c4c66b8354e92a4f1ad085eae10ce": {
     "model_module": "@jupyter-widgets/controls",
     "model_module_version": "1.5.0",
     "model_name": "DescriptionStyleModel",
     "state": {
      "_model_module": "@jupyter-widgets/controls",
      "_model_module_version": "1.5.0",
      "_model_name": "DescriptionStyleModel",
      "_view_count": null,
      "_view_module": "@jupyter-widgets/base",
      "_view_module_version": "1.2.0",
      "_view_name": "StyleView",
      "description_width": ""
     }
    },
    "f17e3dc1774144d2979f92117a67a350": {
     "model_module": "@jupyter-widgets/base",
     "model_module_version": "1.2.0",
     "model_name": "LayoutModel",
     "state": {
      "_model_module": "@jupyter-widgets/base",
      "_model_module_version": "1.2.0",
      "_model_name": "LayoutModel",
      "_view_count": null,
      "_view_module": "@jupyter-widgets/base",
      "_view_module_version": "1.2.0",
      "_view_name": "LayoutView",
      "align_content": null,
      "align_items": null,
      "align_self": null,
      "border": null,
      "bottom": null,
      "display": null,
      "flex": null,
      "flex_flow": null,
      "grid_area": null,
      "grid_auto_columns": null,
      "grid_auto_flow": null,
      "grid_auto_rows": null,
      "grid_column": null,
      "grid_gap": null,
      "grid_row": null,
      "grid_template_areas": null,
      "grid_template_columns": null,
      "grid_template_rows": null,
      "height": null,
      "justify_content": null,
      "justify_items": null,
      "left": null,
      "margin": null,
      "max_height": null,
      "max_width": null,
      "min_height": null,
      "min_width": null,
      "object_fit": null,
      "object_position": null,
      "order": null,
      "overflow": null,
      "overflow_x": null,
      "overflow_y": null,
      "padding": null,
      "right": null,
      "top": null,
      "visibility": "hidden",
      "width": null
     }
    },
    "f1c027f627494c5a94773a74082f38b6": {
     "model_module": "@jupyter-widgets/base",
     "model_module_version": "1.2.0",
     "model_name": "LayoutModel",
     "state": {
      "_model_module": "@jupyter-widgets/base",
      "_model_module_version": "1.2.0",
      "_model_name": "LayoutModel",
      "_view_count": null,
      "_view_module": "@jupyter-widgets/base",
      "_view_module_version": "1.2.0",
      "_view_name": "LayoutView",
      "align_content": null,
      "align_items": null,
      "align_self": null,
      "border": null,
      "bottom": null,
      "display": null,
      "flex": null,
      "flex_flow": null,
      "grid_area": null,
      "grid_auto_columns": null,
      "grid_auto_flow": null,
      "grid_auto_rows": null,
      "grid_column": null,
      "grid_gap": null,
      "grid_row": null,
      "grid_template_areas": null,
      "grid_template_columns": null,
      "grid_template_rows": null,
      "height": null,
      "justify_content": null,
      "justify_items": null,
      "left": null,
      "margin": null,
      "max_height": null,
      "max_width": null,
      "min_height": null,
      "min_width": null,
      "object_fit": null,
      "object_position": null,
      "order": null,
      "overflow": null,
      "overflow_x": null,
      "overflow_y": null,
      "padding": null,
      "right": null,
      "top": null,
      "visibility": null,
      "width": null
     }
    },
    "f324092eea9e421db1114b50f4eb4ea3": {
     "model_module": "@jupyter-widgets/controls",
     "model_module_version": "1.5.0",
     "model_name": "HTMLModel",
     "state": {
      "_dom_classes": [],
      "_model_module": "@jupyter-widgets/controls",
      "_model_module_version": "1.5.0",
      "_model_name": "HTMLModel",
      "_view_count": null,
      "_view_module": "@jupyter-widgets/controls",
      "_view_module_version": "1.5.0",
      "_view_name": "HTMLView",
      "description": "",
      "description_tooltip": null,
      "layout": "IPY_MODEL_a3c774ef3f9743938603c9ef1699fb6f",
      "placeholder": "​",
      "style": "IPY_MODEL_a3eece0fb1604673a52f0a0f39a962ca",
      "value": "Shuffling /root/tensorflow_datasets/ted_hrlr_translate/pt_to_en/1.0.0.incomplete56VXPN/ted_hrlr_translate-validation.tfrecord*...:   0%"
     }
    },
    "f72868e8b4714b84b2e0eeb3991048dc": {
     "model_module": "@jupyter-widgets/controls",
     "model_module_version": "1.5.0",
     "model_name": "FloatProgressModel",
     "state": {
      "_dom_classes": [],
      "_model_module": "@jupyter-widgets/controls",
      "_model_module_version": "1.5.0",
      "_model_name": "FloatProgressModel",
      "_view_count": null,
      "_view_module": "@jupyter-widgets/controls",
      "_view_module_version": "1.5.0",
      "_view_name": "ProgressView",
      "bar_style": "",
      "description": "",
      "description_tooltip": null,
      "layout": "IPY_MODEL_eee1282cec3346e08386e4a2166bc47c",
      "max": 1193,
      "min": 0,
      "orientation": "horizontal",
      "style": "IPY_MODEL_a277f3174ba84b9395654b614f8a4a0d",
      "value": 1193
     }
    },
    "f8fa134d4bf549e0a9f39f8049b679be": {
     "model_module": "@jupyter-widgets/controls",
     "model_module_version": "1.5.0",
     "model_name": "HTMLModel",
     "state": {
      "_dom_classes": [],
      "_model_module": "@jupyter-widgets/controls",
      "_model_module_version": "1.5.0",
      "_model_name": "HTMLModel",
      "_view_count": null,
      "_view_module": "@jupyter-widgets/controls",
      "_view_module_version": "1.5.0",
      "_view_name": "HTMLView",
      "description": "",
      "description_tooltip": null,
      "layout": "IPY_MODEL_b91339c5ec58462b90f62eebcb3b0d14",
      "placeholder": "​",
      "style": "IPY_MODEL_72a99f6fafd64948bacbb9a3703c9c1e",
      "value": " 3/3 [00:06&lt;00:00,  1.66s/ splits]"
     }
    },
    "fe2380a0130a4b1690c79737432d99fa": {
     "model_module": "@jupyter-widgets/controls",
     "model_module_version": "1.5.0",
     "model_name": "HBoxModel",
     "state": {
      "_dom_classes": [],
      "_model_module": "@jupyter-widgets/controls",
      "_model_module_version": "1.5.0",
      "_model_name": "HBoxModel",
      "_view_count": null,
      "_view_module": "@jupyter-widgets/controls",
      "_view_module_version": "1.5.0",
      "_view_name": "HBoxView",
      "box_style": "",
      "children": [
       "IPY_MODEL_79a77ec05e3f42878fcf8a7af21af4a2",
       "IPY_MODEL_9eb37f0604c94603b910f3146ee6e123",
       "IPY_MODEL_f8fa134d4bf549e0a9f39f8049b679be"
      ],
      "layout": "IPY_MODEL_073decc4a5ea4153a069714aace145ee"
     }
    },
    "ffc83e58b48a45168b6e2282cf860fed": {
     "model_module": "@jupyter-widgets/base",
     "model_module_version": "1.2.0",
     "model_name": "LayoutModel",
     "state": {
      "_model_module": "@jupyter-widgets/base",
      "_model_module_version": "1.2.0",
      "_model_name": "LayoutModel",
      "_view_count": null,
      "_view_module": "@jupyter-widgets/base",
      "_view_module_version": "1.2.0",
      "_view_name": "LayoutView",
      "align_content": null,
      "align_items": null,
      "align_self": null,
      "border": null,
      "bottom": null,
      "display": null,
      "flex": null,
      "flex_flow": null,
      "grid_area": null,
      "grid_auto_columns": null,
      "grid_auto_flow": null,
      "grid_auto_rows": null,
      "grid_column": null,
      "grid_gap": null,
      "grid_row": null,
      "grid_template_areas": null,
      "grid_template_columns": null,
      "grid_template_rows": null,
      "height": null,
      "justify_content": null,
      "justify_items": null,
      "left": null,
      "margin": null,
      "max_height": null,
      "max_width": null,
      "min_height": null,
      "min_width": null,
      "object_fit": null,
      "object_position": null,
      "order": null,
      "overflow": null,
      "overflow_x": null,
      "overflow_y": null,
      "padding": null,
      "right": null,
      "top": null,
      "visibility": null,
      "width": null
     }
    }
   }
  }
 },
 "nbformat": 4,
 "nbformat_minor": 1
}
